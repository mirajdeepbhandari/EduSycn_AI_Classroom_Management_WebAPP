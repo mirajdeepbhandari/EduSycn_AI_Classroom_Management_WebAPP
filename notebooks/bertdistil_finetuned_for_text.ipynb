{
  "metadata": {
    "kernelspec": {
      "language": "python",
      "display_name": "Python 3",
      "name": "python3"
    },
    "language_info": {
      "name": "python",
      "version": "3.10.14",
      "mimetype": "text/x-python",
      "codemirror_mode": {
        "name": "ipython",
        "version": 3
      },
      "pygments_lexer": "ipython3",
      "nbconvert_exporter": "python",
      "file_extension": ".py"
    },
    "kaggle": {
      "accelerator": "gpu",
      "dataSources": [],
      "dockerImageVersionId": 30805,
      "isInternetEnabled": true,
      "language": "python",
      "sourceType": "notebook",
      "isGpuEnabled": true
    },
    "colab": {
      "provenance": []
    }
  },
  "nbformat_minor": 0,
  "nbformat": 4,
  "cells": [
    {
      "cell_type": "markdown",
      "source": [
        "**INSTALLING ALL DEPENDENCIES**"
      ],
      "metadata": {
        "id": "7NljI5J_pjuF"
      }
    },
    {
      "cell_type": "code",
      "source": [
        "!pip install -U transformers\n",
        "!pip install -U accelerate\n",
        "!pip install -U datasets\n",
        "!pip install -U bertviz\n",
        "!pip install -U umap-learn"
      ],
      "metadata": {
        "trusted": true,
        "execution": {
          "iopub.status.busy": "2025-02-03T10:08:12.359420Z",
          "iopub.execute_input": "2025-02-03T10:08:12.359734Z",
          "iopub.status.idle": "2025-02-03T10:09:11.520041Z",
          "shell.execute_reply.started": "2025-02-03T10:08:12.359694Z",
          "shell.execute_reply": "2025-02-03T10:09:11.519168Z"
        },
        "id": "IJvSCZ16pjuG",
        "outputId": "278396c7-ec6e-435d-95bc-0b228ad38fe2"
      },
      "outputs": [
        {
          "name": "stdout",
          "text": "Requirement already satisfied: transformers in /opt/conda/lib/python3.10/site-packages (4.46.3)\nCollecting transformers\n  Downloading transformers-4.48.2-py3-none-any.whl.metadata (44 kB)\n\u001b[2K     \u001b[90m━━━━━━━━━━━━━━━━━━━━━━━━━━━━━━━━━━━━━━━━\u001b[0m \u001b[32m44.4/44.4 kB\u001b[0m \u001b[31m2.6 MB/s\u001b[0m eta \u001b[36m0:00:00\u001b[0m\n\u001b[?25hRequirement already satisfied: filelock in /opt/conda/lib/python3.10/site-packages (from transformers) (3.15.1)\nRequirement already satisfied: huggingface-hub<1.0,>=0.24.0 in /opt/conda/lib/python3.10/site-packages (from transformers) (0.26.2)\nRequirement already satisfied: numpy>=1.17 in /opt/conda/lib/python3.10/site-packages (from transformers) (1.26.4)\nRequirement already satisfied: packaging>=20.0 in /opt/conda/lib/python3.10/site-packages (from transformers) (21.3)\nRequirement already satisfied: pyyaml>=5.1 in /opt/conda/lib/python3.10/site-packages (from transformers) (6.0.2)\nRequirement already satisfied: regex!=2019.12.17 in /opt/conda/lib/python3.10/site-packages (from transformers) (2024.5.15)\nRequirement already satisfied: requests in /opt/conda/lib/python3.10/site-packages (from transformers) (2.32.3)\nCollecting tokenizers<0.22,>=0.21 (from transformers)\n  Downloading tokenizers-0.21.0-cp39-abi3-manylinux_2_17_x86_64.manylinux2014_x86_64.whl.metadata (6.7 kB)\nRequirement already satisfied: safetensors>=0.4.1 in /opt/conda/lib/python3.10/site-packages (from transformers) (0.4.5)\nRequirement already satisfied: tqdm>=4.27 in /opt/conda/lib/python3.10/site-packages (from transformers) (4.66.4)\nRequirement already satisfied: fsspec>=2023.5.0 in /opt/conda/lib/python3.10/site-packages (from huggingface-hub<1.0,>=0.24.0->transformers) (2024.6.0)\nRequirement already satisfied: typing-extensions>=3.7.4.3 in /opt/conda/lib/python3.10/site-packages (from huggingface-hub<1.0,>=0.24.0->transformers) (4.12.2)\nRequirement already satisfied: pyparsing!=3.0.5,>=2.0.2 in /opt/conda/lib/python3.10/site-packages (from packaging>=20.0->transformers) (3.1.2)\nRequirement already satisfied: charset-normalizer<4,>=2 in /opt/conda/lib/python3.10/site-packages (from requests->transformers) (3.3.2)\nRequirement already satisfied: idna<4,>=2.5 in /opt/conda/lib/python3.10/site-packages (from requests->transformers) (3.7)\nRequirement already satisfied: urllib3<3,>=1.21.1 in /opt/conda/lib/python3.10/site-packages (from requests->transformers) (1.26.18)\nRequirement already satisfied: certifi>=2017.4.17 in /opt/conda/lib/python3.10/site-packages (from requests->transformers) (2024.6.2)\nDownloading transformers-4.48.2-py3-none-any.whl (9.7 MB)\n\u001b[2K   \u001b[90m━━━━━━━━━━━━━━━━━━━━━━━━━━━━━━━━━━━━━━━━\u001b[0m \u001b[32m9.7/9.7 MB\u001b[0m \u001b[31m103.0 MB/s\u001b[0m eta \u001b[36m0:00:00\u001b[0m00:01\u001b[0m00:01\u001b[0m\n\u001b[?25hDownloading tokenizers-0.21.0-cp39-abi3-manylinux_2_17_x86_64.manylinux2014_x86_64.whl (3.0 MB)\n\u001b[2K   \u001b[90m━━━━━━━━━━━━━━━━━━━━━━━━━━━━━━━━━━━━━━━━\u001b[0m \u001b[32m3.0/3.0 MB\u001b[0m \u001b[31m83.6 MB/s\u001b[0m eta \u001b[36m0:00:00\u001b[0m:00:01\u001b[0m\n\u001b[?25hInstalling collected packages: tokenizers, transformers\n  Attempting uninstall: tokenizers\n    Found existing installation: tokenizers 0.20.3\n    Uninstalling tokenizers-0.20.3:\n      Successfully uninstalled tokenizers-0.20.3\n  Attempting uninstall: transformers\n    Found existing installation: transformers 4.46.3\n    Uninstalling transformers-4.46.3:\n      Successfully uninstalled transformers-4.46.3\nSuccessfully installed tokenizers-0.21.0 transformers-4.48.2\nRequirement already satisfied: accelerate in /opt/conda/lib/python3.10/site-packages (1.1.1)\nCollecting accelerate\n  Downloading accelerate-1.3.0-py3-none-any.whl.metadata (19 kB)\nRequirement already satisfied: numpy<3.0.0,>=1.17 in /opt/conda/lib/python3.10/site-packages (from accelerate) (1.26.4)\nRequirement already satisfied: packaging>=20.0 in /opt/conda/lib/python3.10/site-packages (from accelerate) (21.3)\nRequirement already satisfied: psutil in /opt/conda/lib/python3.10/site-packages (from accelerate) (5.9.3)\nRequirement already satisfied: pyyaml in /opt/conda/lib/python3.10/site-packages (from accelerate) (6.0.2)\nRequirement already satisfied: torch>=2.0.0 in /opt/conda/lib/python3.10/site-packages (from accelerate) (2.4.0)\nRequirement already satisfied: huggingface-hub>=0.21.0 in /opt/conda/lib/python3.10/site-packages (from accelerate) (0.26.2)\nRequirement already satisfied: safetensors>=0.4.3 in /opt/conda/lib/python3.10/site-packages (from accelerate) (0.4.5)\nRequirement already satisfied: filelock in /opt/conda/lib/python3.10/site-packages (from huggingface-hub>=0.21.0->accelerate) (3.15.1)\nRequirement already satisfied: fsspec>=2023.5.0 in /opt/conda/lib/python3.10/site-packages (from huggingface-hub>=0.21.0->accelerate) (2024.6.0)\nRequirement already satisfied: requests in /opt/conda/lib/python3.10/site-packages (from huggingface-hub>=0.21.0->accelerate) (2.32.3)\nRequirement already satisfied: tqdm>=4.42.1 in /opt/conda/lib/python3.10/site-packages (from huggingface-hub>=0.21.0->accelerate) (4.66.4)\nRequirement already satisfied: typing-extensions>=3.7.4.3 in /opt/conda/lib/python3.10/site-packages (from huggingface-hub>=0.21.0->accelerate) (4.12.2)\nRequirement already satisfied: pyparsing!=3.0.5,>=2.0.2 in /opt/conda/lib/python3.10/site-packages (from packaging>=20.0->accelerate) (3.1.2)\nRequirement already satisfied: sympy in /opt/conda/lib/python3.10/site-packages (from torch>=2.0.0->accelerate) (1.13.3)\nRequirement already satisfied: networkx in /opt/conda/lib/python3.10/site-packages (from torch>=2.0.0->accelerate) (3.3)\nRequirement already satisfied: jinja2 in /opt/conda/lib/python3.10/site-packages (from torch>=2.0.0->accelerate) (3.1.4)\nRequirement already satisfied: MarkupSafe>=2.0 in /opt/conda/lib/python3.10/site-packages (from jinja2->torch>=2.0.0->accelerate) (2.1.5)\nRequirement already satisfied: charset-normalizer<4,>=2 in /opt/conda/lib/python3.10/site-packages (from requests->huggingface-hub>=0.21.0->accelerate) (3.3.2)\nRequirement already satisfied: idna<4,>=2.5 in /opt/conda/lib/python3.10/site-packages (from requests->huggingface-hub>=0.21.0->accelerate) (3.7)\nRequirement already satisfied: urllib3<3,>=1.21.1 in /opt/conda/lib/python3.10/site-packages (from requests->huggingface-hub>=0.21.0->accelerate) (1.26.18)\nRequirement already satisfied: certifi>=2017.4.17 in /opt/conda/lib/python3.10/site-packages (from requests->huggingface-hub>=0.21.0->accelerate) (2024.6.2)\nRequirement already satisfied: mpmath<1.4,>=1.1.0 in /opt/conda/lib/python3.10/site-packages (from sympy->torch>=2.0.0->accelerate) (1.3.0)\nDownloading accelerate-1.3.0-py3-none-any.whl (336 kB)\n\u001b[2K   \u001b[90m━━━━━━━━━━━━━━━━━━━━━━━━━━━━━━━━━━━━━━━━\u001b[0m \u001b[32m336.6/336.6 kB\u001b[0m \u001b[31m15.9 MB/s\u001b[0m eta \u001b[36m0:00:00\u001b[0m\n\u001b[?25hInstalling collected packages: accelerate\n  Attempting uninstall: accelerate\n    Found existing installation: accelerate 1.1.1\n    Uninstalling accelerate-1.1.1:\n      Successfully uninstalled accelerate-1.1.1\nSuccessfully installed accelerate-1.3.0\nRequirement already satisfied: datasets in /opt/conda/lib/python3.10/site-packages (3.1.0)\nCollecting datasets\n  Downloading datasets-3.2.0-py3-none-any.whl.metadata (20 kB)\nRequirement already satisfied: filelock in /opt/conda/lib/python3.10/site-packages (from datasets) (3.15.1)\nRequirement already satisfied: numpy>=1.17 in /opt/conda/lib/python3.10/site-packages (from datasets) (1.26.4)\nRequirement already satisfied: pyarrow>=15.0.0 in /opt/conda/lib/python3.10/site-packages (from datasets) (17.0.0)\nRequirement already satisfied: dill<0.3.9,>=0.3.0 in /opt/conda/lib/python3.10/site-packages (from datasets) (0.3.8)\nRequirement already satisfied: pandas in /opt/conda/lib/python3.10/site-packages (from datasets) (2.2.3)\nRequirement already satisfied: requests>=2.32.2 in /opt/conda/lib/python3.10/site-packages (from datasets) (2.32.3)\nRequirement already satisfied: tqdm>=4.66.3 in /opt/conda/lib/python3.10/site-packages (from datasets) (4.66.4)\nRequirement already satisfied: xxhash in /opt/conda/lib/python3.10/site-packages (from datasets) (3.4.1)\nRequirement already satisfied: multiprocess<0.70.17 in /opt/conda/lib/python3.10/site-packages (from datasets) (0.70.16)\nRequirement already satisfied: fsspec<=2024.9.0,>=2023.1.0 in /opt/conda/lib/python3.10/site-packages (from fsspec[http]<=2024.9.0,>=2023.1.0->datasets) (2024.6.0)\nRequirement already satisfied: aiohttp in /opt/conda/lib/python3.10/site-packages (from datasets) (3.9.5)\nRequirement already satisfied: huggingface-hub>=0.23.0 in /opt/conda/lib/python3.10/site-packages (from datasets) (0.26.2)\nRequirement already satisfied: packaging in /opt/conda/lib/python3.10/site-packages (from datasets) (21.3)\nRequirement already satisfied: pyyaml>=5.1 in /opt/conda/lib/python3.10/site-packages (from datasets) (6.0.2)\nRequirement already satisfied: aiosignal>=1.1.2 in /opt/conda/lib/python3.10/site-packages (from aiohttp->datasets) (1.3.1)\nRequirement already satisfied: attrs>=17.3.0 in /opt/conda/lib/python3.10/site-packages (from aiohttp->datasets) (23.2.0)\nRequirement already satisfied: frozenlist>=1.1.1 in /opt/conda/lib/python3.10/site-packages (from aiohttp->datasets) (1.4.1)\nRequirement already satisfied: multidict<7.0,>=4.5 in /opt/conda/lib/python3.10/site-packages (from aiohttp->datasets) (6.0.5)\nRequirement already satisfied: yarl<2.0,>=1.0 in /opt/conda/lib/python3.10/site-packages (from aiohttp->datasets) (1.9.4)\nRequirement already satisfied: async-timeout<5.0,>=4.0 in /opt/conda/lib/python3.10/site-packages (from aiohttp->datasets) (4.0.3)\nRequirement already satisfied: typing-extensions>=3.7.4.3 in /opt/conda/lib/python3.10/site-packages (from huggingface-hub>=0.23.0->datasets) (4.12.2)\nRequirement already satisfied: pyparsing!=3.0.5,>=2.0.2 in /opt/conda/lib/python3.10/site-packages (from packaging->datasets) (3.1.2)\nRequirement already satisfied: charset-normalizer<4,>=2 in /opt/conda/lib/python3.10/site-packages (from requests>=2.32.2->datasets) (3.3.2)\nRequirement already satisfied: idna<4,>=2.5 in /opt/conda/lib/python3.10/site-packages (from requests>=2.32.2->datasets) (3.7)\nRequirement already satisfied: urllib3<3,>=1.21.1 in /opt/conda/lib/python3.10/site-packages (from requests>=2.32.2->datasets) (1.26.18)\nRequirement already satisfied: certifi>=2017.4.17 in /opt/conda/lib/python3.10/site-packages (from requests>=2.32.2->datasets) (2024.6.2)\nRequirement already satisfied: python-dateutil>=2.8.2 in /opt/conda/lib/python3.10/site-packages (from pandas->datasets) (2.9.0.post0)\nRequirement already satisfied: pytz>=2020.1 in /opt/conda/lib/python3.10/site-packages (from pandas->datasets) (2024.1)\nRequirement already satisfied: tzdata>=2022.7 in /opt/conda/lib/python3.10/site-packages (from pandas->datasets) (2024.1)\nRequirement already satisfied: six>=1.5 in /opt/conda/lib/python3.10/site-packages (from python-dateutil>=2.8.2->pandas->datasets) (1.16.0)\nDownloading datasets-3.2.0-py3-none-any.whl (480 kB)\n\u001b[2K   \u001b[90m━━━━━━━━━━━━━━━━━━━━━━━━━━━━━━━━━━━━━━━━\u001b[0m \u001b[32m480.6/480.6 kB\u001b[0m \u001b[31m24.3 MB/s\u001b[0m eta \u001b[36m0:00:00\u001b[0m\n\u001b[?25hInstalling collected packages: datasets\n  Attempting uninstall: datasets\n    Found existing installation: datasets 3.1.0\n    Uninstalling datasets-3.1.0:\n      Successfully uninstalled datasets-3.1.0\nSuccessfully installed datasets-3.2.0\nCollecting bertviz\n  Downloading bertviz-1.4.0-py3-none-any.whl.metadata (19 kB)\nRequirement already satisfied: transformers>=2.0 in /opt/conda/lib/python3.10/site-packages (from bertviz) (4.48.2)\nRequirement already satisfied: torch>=1.0 in /opt/conda/lib/python3.10/site-packages (from bertviz) (2.4.0)\nRequirement already satisfied: tqdm in /opt/conda/lib/python3.10/site-packages (from bertviz) (4.66.4)\nRequirement already satisfied: boto3 in /opt/conda/lib/python3.10/site-packages (from bertviz) (1.26.100)\nRequirement already satisfied: requests in /opt/conda/lib/python3.10/site-packages (from bertviz) (2.32.3)\nRequirement already satisfied: regex in /opt/conda/lib/python3.10/site-packages (from bertviz) (2024.5.15)\nRequirement already satisfied: sentencepiece in /opt/conda/lib/python3.10/site-packages (from bertviz) (0.2.0)\nRequirement already satisfied: filelock in /opt/conda/lib/python3.10/site-packages (from torch>=1.0->bertviz) (3.15.1)\nRequirement already satisfied: typing-extensions>=4.8.0 in /opt/conda/lib/python3.10/site-packages (from torch>=1.0->bertviz) (4.12.2)\nRequirement already satisfied: sympy in /opt/conda/lib/python3.10/site-packages (from torch>=1.0->bertviz) (1.13.3)\nRequirement already satisfied: networkx in /opt/conda/lib/python3.10/site-packages (from torch>=1.0->bertviz) (3.3)\nRequirement already satisfied: jinja2 in /opt/conda/lib/python3.10/site-packages (from torch>=1.0->bertviz) (3.1.4)\nRequirement already satisfied: fsspec in /opt/conda/lib/python3.10/site-packages (from torch>=1.0->bertviz) (2024.6.0)\nRequirement already satisfied: huggingface-hub<1.0,>=0.24.0 in /opt/conda/lib/python3.10/site-packages (from transformers>=2.0->bertviz) (0.26.2)\nRequirement already satisfied: numpy>=1.17 in /opt/conda/lib/python3.10/site-packages (from transformers>=2.0->bertviz) (1.26.4)\nRequirement already satisfied: packaging>=20.0 in /opt/conda/lib/python3.10/site-packages (from transformers>=2.0->bertviz) (21.3)\nRequirement already satisfied: pyyaml>=5.1 in /opt/conda/lib/python3.10/site-packages (from transformers>=2.0->bertviz) (6.0.2)\nRequirement already satisfied: tokenizers<0.22,>=0.21 in /opt/conda/lib/python3.10/site-packages (from transformers>=2.0->bertviz) (0.21.0)\nRequirement already satisfied: safetensors>=0.4.1 in /opt/conda/lib/python3.10/site-packages (from transformers>=2.0->bertviz) (0.4.5)\nCollecting botocore<1.30.0,>=1.29.100 (from boto3->bertviz)\n  Downloading botocore-1.29.165-py3-none-any.whl.metadata (5.9 kB)\nRequirement already satisfied: jmespath<2.0.0,>=0.7.1 in /opt/conda/lib/python3.10/site-packages (from boto3->bertviz) (1.0.1)\nRequirement already satisfied: s3transfer<0.7.0,>=0.6.0 in /opt/conda/lib/python3.10/site-packages (from boto3->bertviz) (0.6.2)\nRequirement already satisfied: charset-normalizer<4,>=2 in /opt/conda/lib/python3.10/site-packages (from requests->bertviz) (3.3.2)\nRequirement already satisfied: idna<4,>=2.5 in /opt/conda/lib/python3.10/site-packages (from requests->bertviz) (3.7)\nRequirement already satisfied: urllib3<3,>=1.21.1 in /opt/conda/lib/python3.10/site-packages (from requests->bertviz) (1.26.18)\nRequirement already satisfied: certifi>=2017.4.17 in /opt/conda/lib/python3.10/site-packages (from requests->bertviz) (2024.6.2)\nRequirement already satisfied: python-dateutil<3.0.0,>=2.1 in /opt/conda/lib/python3.10/site-packages (from botocore<1.30.0,>=1.29.100->boto3->bertviz) (2.9.0.post0)\nRequirement already satisfied: pyparsing!=3.0.5,>=2.0.2 in /opt/conda/lib/python3.10/site-packages (from packaging>=20.0->transformers>=2.0->bertviz) (3.1.2)\nRequirement already satisfied: MarkupSafe>=2.0 in /opt/conda/lib/python3.10/site-packages (from jinja2->torch>=1.0->bertviz) (2.1.5)\nRequirement already satisfied: mpmath<1.4,>=1.1.0 in /opt/conda/lib/python3.10/site-packages (from sympy->torch>=1.0->bertviz) (1.3.0)\nRequirement already satisfied: six>=1.5 in /opt/conda/lib/python3.10/site-packages (from python-dateutil<3.0.0,>=2.1->botocore<1.30.0,>=1.29.100->boto3->bertviz) (1.16.0)\nDownloading bertviz-1.4.0-py3-none-any.whl (157 kB)\n\u001b[2K   \u001b[90m━━━━━━━━━━━━━━━━━━━━━━━━━━━━━━━━━━━━━━━━\u001b[0m \u001b[32m157.6/157.6 kB\u001b[0m \u001b[31m9.3 MB/s\u001b[0m eta \u001b[36m0:00:00\u001b[0m\n\u001b[?25hDownloading botocore-1.29.165-py3-none-any.whl (11.0 MB)\n\u001b[2K   \u001b[90m━━━━━━━━━━━━━━━━━━━━━━━━━━━━━━━━━━━━━━━━\u001b[0m \u001b[32m11.0/11.0 MB\u001b[0m \u001b[31m114.1 MB/s\u001b[0m eta \u001b[36m0:00:00\u001b[0m00:01\u001b[0m0:01\u001b[0m\n\u001b[?25hInstalling collected packages: botocore, bertviz\n  Attempting uninstall: botocore\n    Found existing installation: botocore 1.35.36\n    Uninstalling botocore-1.35.36:\n      Successfully uninstalled botocore-1.35.36\n\u001b[31mERROR: pip's dependency resolver does not currently take into account all the packages that are installed. This behaviour is the source of the following dependency conflicts.\naiobotocore 2.15.2 requires botocore<1.35.37,>=1.35.16, but you have botocore 1.29.165 which is incompatible.\ns3fs 2024.9.0 requires fsspec==2024.9.0.*, but you have fsspec 2024.6.0 which is incompatible.\u001b[0m\u001b[31m\n\u001b[0mSuccessfully installed bertviz-1.4.0 botocore-1.29.165\nCollecting umap-learn\n  Downloading umap_learn-0.5.7-py3-none-any.whl.metadata (21 kB)\nRequirement already satisfied: numpy>=1.17 in /opt/conda/lib/python3.10/site-packages (from umap-learn) (1.26.4)\nRequirement already satisfied: scipy>=1.3.1 in /opt/conda/lib/python3.10/site-packages (from umap-learn) (1.14.1)\nRequirement already satisfied: scikit-learn>=0.22 in /opt/conda/lib/python3.10/site-packages (from umap-learn) (1.2.2)\nRequirement already satisfied: numba>=0.51.2 in /opt/conda/lib/python3.10/site-packages (from umap-learn) (0.60.0)\nCollecting pynndescent>=0.5 (from umap-learn)\n  Downloading pynndescent-0.5.13-py3-none-any.whl.metadata (6.8 kB)\nRequirement already satisfied: tqdm in /opt/conda/lib/python3.10/site-packages (from umap-learn) (4.66.4)\nRequirement already satisfied: llvmlite<0.44,>=0.43.0dev0 in /opt/conda/lib/python3.10/site-packages (from numba>=0.51.2->umap-learn) (0.43.0)\nRequirement already satisfied: joblib>=0.11 in /opt/conda/lib/python3.10/site-packages (from pynndescent>=0.5->umap-learn) (1.4.2)\nRequirement already satisfied: threadpoolctl>=2.0.0 in /opt/conda/lib/python3.10/site-packages (from scikit-learn>=0.22->umap-learn) (3.5.0)\nDownloading umap_learn-0.5.7-py3-none-any.whl (88 kB)\n\u001b[2K   \u001b[90m━━━━━━━━━━━━━━━━━━━━━━━━━━━━━━━━━━━━━━━━\u001b[0m \u001b[32m88.8/88.8 kB\u001b[0m \u001b[31m5.6 MB/s\u001b[0m eta \u001b[36m0:00:00\u001b[0m\n\u001b[?25hDownloading pynndescent-0.5.13-py3-none-any.whl (56 kB)\n\u001b[2K   \u001b[90m━━━━━━━━━━━━━━━━━━━━━━━━━━━━━━━━━━━━━━━━\u001b[0m \u001b[32m56.9/56.9 kB\u001b[0m \u001b[31m5.1 MB/s\u001b[0m eta \u001b[36m0:00:00\u001b[0m\n\u001b[?25hInstalling collected packages: pynndescent, umap-learn\nSuccessfully installed pynndescent-0.5.13 umap-learn-0.5.7\n",
          "output_type": "stream"
        }
      ],
      "execution_count": null
    },
    {
      "cell_type": "markdown",
      "source": [
        "**IMPORTING ALL DEPENDENCIES**"
      ],
      "metadata": {
        "id": "WJcUZ4MlpjuI"
      }
    },
    {
      "cell_type": "code",
      "source": [
        "import matplotlib.pyplot as plt\n",
        "import seaborn as sns\n",
        "from datasets import load_dataset\n",
        "from transformers import AutoModel\n",
        "import torch\n",
        "from transformers import AutoModelForSequenceClassification\n",
        "from transformers import TrainingArguments\n",
        "from sklearn.metrics import accuracy_score, f1_score\n",
        "from transformers import Trainer\n",
        "from sklearn.metrics import confusion_matrix, ConfusionMatrixDisplay\n",
        "import numpy as np"
      ],
      "metadata": {
        "trusted": true,
        "execution": {
          "iopub.status.busy": "2025-02-03T10:16:30.700841Z",
          "iopub.execute_input": "2025-02-03T10:16:30.701677Z",
          "iopub.status.idle": "2025-02-03T10:16:49.347634Z",
          "shell.execute_reply.started": "2025-02-03T10:16:30.701639Z",
          "shell.execute_reply": "2025-02-03T10:16:49.346692Z"
        },
        "id": "otDDZksOpjuI"
      },
      "outputs": [],
      "execution_count": null
    },
    {
      "cell_type": "code",
      "source": [
        "ds = load_dataset(\"stanfordnlp/imdb\")\n",
        "ds.set_format(type='pandas')"
      ],
      "metadata": {
        "trusted": true,
        "execution": {
          "iopub.status.busy": "2025-02-03T10:17:32.315065Z",
          "iopub.execute_input": "2025-02-03T10:17:32.315774Z",
          "iopub.status.idle": "2025-02-03T10:17:39.166151Z",
          "shell.execute_reply.started": "2025-02-03T10:17:32.315739Z",
          "shell.execute_reply": "2025-02-03T10:17:39.165494Z"
        },
        "colab": {
          "referenced_widgets": [
            "885143fb4f844a56ab039af01a533f88",
            "27e12134e6f947a3981be4c3c9db1069",
            "da0261050b8149d188bbfe545d5ef6db",
            "157d91b3015b407c9d40a073cfcd1044",
            "5ab7e71c33c44c28ba65cc193c567c59",
            "86e71bb7d85f46a1b390792a696e3686",
            "7f21c7ff6f9542a682d5a4c6d91c832b"
          ]
        },
        "id": "yVzcPXC4pjuI",
        "outputId": "e0db4511-0a6d-4f74-bbef-53242a0b7df7"
      },
      "outputs": [
        {
          "output_type": "display_data",
          "data": {
            "text/plain": "README.md:   0%|          | 0.00/7.81k [00:00<?, ?B/s]",
            "application/vnd.jupyter.widget-view+json": {
              "version_major": 2,
              "version_minor": 0,
              "model_id": "885143fb4f844a56ab039af01a533f88"
            }
          },
          "metadata": {}
        },
        {
          "output_type": "display_data",
          "data": {
            "text/plain": "train-00000-of-00001.parquet:   0%|          | 0.00/21.0M [00:00<?, ?B/s]",
            "application/vnd.jupyter.widget-view+json": {
              "version_major": 2,
              "version_minor": 0,
              "model_id": "27e12134e6f947a3981be4c3c9db1069"
            }
          },
          "metadata": {}
        },
        {
          "output_type": "display_data",
          "data": {
            "text/plain": "test-00000-of-00001.parquet:   0%|          | 0.00/20.5M [00:00<?, ?B/s]",
            "application/vnd.jupyter.widget-view+json": {
              "version_major": 2,
              "version_minor": 0,
              "model_id": "da0261050b8149d188bbfe545d5ef6db"
            }
          },
          "metadata": {}
        },
        {
          "output_type": "display_data",
          "data": {
            "text/plain": "unsupervised-00000-of-00001.parquet:   0%|          | 0.00/42.0M [00:00<?, ?B/s]",
            "application/vnd.jupyter.widget-view+json": {
              "version_major": 2,
              "version_minor": 0,
              "model_id": "157d91b3015b407c9d40a073cfcd1044"
            }
          },
          "metadata": {}
        },
        {
          "output_type": "display_data",
          "data": {
            "text/plain": "Generating train split:   0%|          | 0/25000 [00:00<?, ? examples/s]",
            "application/vnd.jupyter.widget-view+json": {
              "version_major": 2,
              "version_minor": 0,
              "model_id": "5ab7e71c33c44c28ba65cc193c567c59"
            }
          },
          "metadata": {}
        },
        {
          "output_type": "display_data",
          "data": {
            "text/plain": "Generating test split:   0%|          | 0/25000 [00:00<?, ? examples/s]",
            "application/vnd.jupyter.widget-view+json": {
              "version_major": 2,
              "version_minor": 0,
              "model_id": "86e71bb7d85f46a1b390792a696e3686"
            }
          },
          "metadata": {}
        },
        {
          "output_type": "display_data",
          "data": {
            "text/plain": "Generating unsupervised split:   0%|          | 0/50000 [00:00<?, ? examples/s]",
            "application/vnd.jupyter.widget-view+json": {
              "version_major": 2,
              "version_minor": 0,
              "model_id": "7f21c7ff6f9542a682d5a4c6d91c832b"
            }
          },
          "metadata": {}
        }
      ],
      "execution_count": null
    },
    {
      "cell_type": "code",
      "source": [
        "df=ds['train'][:]"
      ],
      "metadata": {
        "trusted": true,
        "execution": {
          "iopub.status.busy": "2025-02-03T10:17:50.059540Z",
          "iopub.execute_input": "2025-02-03T10:17:50.059882Z",
          "iopub.status.idle": "2025-02-03T10:17:50.127529Z",
          "shell.execute_reply.started": "2025-02-03T10:17:50.059852Z",
          "shell.execute_reply": "2025-02-03T10:17:50.126809Z"
        },
        "id": "JSGxq5N2pjuJ"
      },
      "outputs": [],
      "execution_count": null
    },
    {
      "cell_type": "code",
      "source": [
        "df"
      ],
      "metadata": {
        "trusted": true,
        "execution": {
          "iopub.status.busy": "2025-02-03T10:17:55.548772Z",
          "iopub.execute_input": "2025-02-03T10:17:55.549408Z",
          "iopub.status.idle": "2025-02-03T10:17:55.567291Z",
          "shell.execute_reply.started": "2025-02-03T10:17:55.549375Z",
          "shell.execute_reply": "2025-02-03T10:17:55.566495Z"
        },
        "id": "_IYDr7iDpjuJ",
        "outputId": "491884c5-55f6-4b98-d2c7-9c7883828c14"
      },
      "outputs": [
        {
          "execution_count": 5,
          "output_type": "execute_result",
          "data": {
            "text/plain": "                                                    text  label\n0      I rented I AM CURIOUS-YELLOW from my video sto...      0\n1      \"I Am Curious: Yellow\" is a risible and preten...      0\n2      If only to avoid making this type of film in t...      0\n3      This film was probably inspired by Godard's Ma...      0\n4      Oh, brother...after hearing about this ridicul...      0\n...                                                  ...    ...\n24995  A hit at the time but now better categorised a...      1\n24996  I love this movie like no other. Another time ...      1\n24997  This film and it's sequel Barry Mckenzie holds...      1\n24998  'The Adventures Of Barry McKenzie' started lif...      1\n24999  The story centers around Barry McKenzie who mu...      1\n\n[25000 rows x 2 columns]",
            "text/html": "<div>\n<style scoped>\n    .dataframe tbody tr th:only-of-type {\n        vertical-align: middle;\n    }\n\n    .dataframe tbody tr th {\n        vertical-align: top;\n    }\n\n    .dataframe thead th {\n        text-align: right;\n    }\n</style>\n<table border=\"1\" class=\"dataframe\">\n  <thead>\n    <tr style=\"text-align: right;\">\n      <th></th>\n      <th>text</th>\n      <th>label</th>\n    </tr>\n  </thead>\n  <tbody>\n    <tr>\n      <th>0</th>\n      <td>I rented I AM CURIOUS-YELLOW from my video sto...</td>\n      <td>0</td>\n    </tr>\n    <tr>\n      <th>1</th>\n      <td>\"I Am Curious: Yellow\" is a risible and preten...</td>\n      <td>0</td>\n    </tr>\n    <tr>\n      <th>2</th>\n      <td>If only to avoid making this type of film in t...</td>\n      <td>0</td>\n    </tr>\n    <tr>\n      <th>3</th>\n      <td>This film was probably inspired by Godard's Ma...</td>\n      <td>0</td>\n    </tr>\n    <tr>\n      <th>4</th>\n      <td>Oh, brother...after hearing about this ridicul...</td>\n      <td>0</td>\n    </tr>\n    <tr>\n      <th>...</th>\n      <td>...</td>\n      <td>...</td>\n    </tr>\n    <tr>\n      <th>24995</th>\n      <td>A hit at the time but now better categorised a...</td>\n      <td>1</td>\n    </tr>\n    <tr>\n      <th>24996</th>\n      <td>I love this movie like no other. Another time ...</td>\n      <td>1</td>\n    </tr>\n    <tr>\n      <th>24997</th>\n      <td>This film and it's sequel Barry Mckenzie holds...</td>\n      <td>1</td>\n    </tr>\n    <tr>\n      <th>24998</th>\n      <td>'The Adventures Of Barry McKenzie' started lif...</td>\n      <td>1</td>\n    </tr>\n    <tr>\n      <th>24999</th>\n      <td>The story centers around Barry McKenzie who mu...</td>\n      <td>1</td>\n    </tr>\n  </tbody>\n</table>\n<p>25000 rows × 2 columns</p>\n</div>"
          },
          "metadata": {}
        }
      ],
      "execution_count": null
    },
    {
      "cell_type": "code",
      "source": [
        "ds['test'][:]"
      ],
      "metadata": {
        "trusted": true,
        "execution": {
          "iopub.status.busy": "2025-02-03T10:18:09.239826Z",
          "iopub.execute_input": "2025-02-03T10:18:09.240692Z",
          "iopub.status.idle": "2025-02-03T10:18:09.308656Z",
          "shell.execute_reply.started": "2025-02-03T10:18:09.240655Z",
          "shell.execute_reply": "2025-02-03T10:18:09.307744Z"
        },
        "id": "zlbKOWhlpjuK",
        "outputId": "05c95757-0955-4d4d-99ec-8fad03ea7b61"
      },
      "outputs": [
        {
          "execution_count": 6,
          "output_type": "execute_result",
          "data": {
            "text/plain": "                                                    text  label\n0      I love sci-fi and am willing to put up with a ...      0\n1      Worth the entertainment value of a rental, esp...      0\n2      its a totally average film with a few semi-alr...      0\n3      STAR RATING: ***** Saturday Night **** Friday ...      0\n4      First off let me say, If you haven't enjoyed a...      0\n...                                                  ...    ...\n24995  Just got around to seeing Monster Man yesterda...      1\n24996  I got this as part of a competition prize. I w...      1\n24997  I got Monster Man in a box set of three films ...      1\n24998  Five minutes in, i started to feel how naff th...      1\n24999  I caught this movie on the Sci-Fi channel rece...      1\n\n[25000 rows x 2 columns]",
            "text/html": "<div>\n<style scoped>\n    .dataframe tbody tr th:only-of-type {\n        vertical-align: middle;\n    }\n\n    .dataframe tbody tr th {\n        vertical-align: top;\n    }\n\n    .dataframe thead th {\n        text-align: right;\n    }\n</style>\n<table border=\"1\" class=\"dataframe\">\n  <thead>\n    <tr style=\"text-align: right;\">\n      <th></th>\n      <th>text</th>\n      <th>label</th>\n    </tr>\n  </thead>\n  <tbody>\n    <tr>\n      <th>0</th>\n      <td>I love sci-fi and am willing to put up with a ...</td>\n      <td>0</td>\n    </tr>\n    <tr>\n      <th>1</th>\n      <td>Worth the entertainment value of a rental, esp...</td>\n      <td>0</td>\n    </tr>\n    <tr>\n      <th>2</th>\n      <td>its a totally average film with a few semi-alr...</td>\n      <td>0</td>\n    </tr>\n    <tr>\n      <th>3</th>\n      <td>STAR RATING: ***** Saturday Night **** Friday ...</td>\n      <td>0</td>\n    </tr>\n    <tr>\n      <th>4</th>\n      <td>First off let me say, If you haven't enjoyed a...</td>\n      <td>0</td>\n    </tr>\n    <tr>\n      <th>...</th>\n      <td>...</td>\n      <td>...</td>\n    </tr>\n    <tr>\n      <th>24995</th>\n      <td>Just got around to seeing Monster Man yesterda...</td>\n      <td>1</td>\n    </tr>\n    <tr>\n      <th>24996</th>\n      <td>I got this as part of a competition prize. I w...</td>\n      <td>1</td>\n    </tr>\n    <tr>\n      <th>24997</th>\n      <td>I got Monster Man in a box set of three films ...</td>\n      <td>1</td>\n    </tr>\n    <tr>\n      <th>24998</th>\n      <td>Five minutes in, i started to feel how naff th...</td>\n      <td>1</td>\n    </tr>\n    <tr>\n      <th>24999</th>\n      <td>I caught this movie on the Sci-Fi channel rece...</td>\n      <td>1</td>\n    </tr>\n  </tbody>\n</table>\n<p>25000 rows × 2 columns</p>\n</div>"
          },
          "metadata": {}
        }
      ],
      "execution_count": null
    },
    {
      "cell_type": "code",
      "source": [
        "df.head()"
      ],
      "metadata": {
        "trusted": true,
        "execution": {
          "iopub.status.busy": "2025-02-03T10:18:44.407694Z",
          "iopub.execute_input": "2025-02-03T10:18:44.408354Z",
          "iopub.status.idle": "2025-02-03T10:18:44.416184Z",
          "shell.execute_reply.started": "2025-02-03T10:18:44.408321Z",
          "shell.execute_reply": "2025-02-03T10:18:44.415356Z"
        },
        "id": "LEBeyH6ppjuK",
        "outputId": "46113761-4612-4b35-9945-b18d76b1f22f"
      },
      "outputs": [
        {
          "execution_count": 8,
          "output_type": "execute_result",
          "data": {
            "text/plain": "                                                text  label\n0  I rented I AM CURIOUS-YELLOW from my video sto...      0\n1  \"I Am Curious: Yellow\" is a risible and preten...      0\n2  If only to avoid making this type of film in t...      0\n3  This film was probably inspired by Godard's Ma...      0\n4  Oh, brother...after hearing about this ridicul...      0",
            "text/html": "<div>\n<style scoped>\n    .dataframe tbody tr th:only-of-type {\n        vertical-align: middle;\n    }\n\n    .dataframe tbody tr th {\n        vertical-align: top;\n    }\n\n    .dataframe thead th {\n        text-align: right;\n    }\n</style>\n<table border=\"1\" class=\"dataframe\">\n  <thead>\n    <tr style=\"text-align: right;\">\n      <th></th>\n      <th>text</th>\n      <th>label</th>\n    </tr>\n  </thead>\n  <tbody>\n    <tr>\n      <th>0</th>\n      <td>I rented I AM CURIOUS-YELLOW from my video sto...</td>\n      <td>0</td>\n    </tr>\n    <tr>\n      <th>1</th>\n      <td>\"I Am Curious: Yellow\" is a risible and preten...</td>\n      <td>0</td>\n    </tr>\n    <tr>\n      <th>2</th>\n      <td>If only to avoid making this type of film in t...</td>\n      <td>0</td>\n    </tr>\n    <tr>\n      <th>3</th>\n      <td>This film was probably inspired by Godard's Ma...</td>\n      <td>0</td>\n    </tr>\n    <tr>\n      <th>4</th>\n      <td>Oh, brother...after hearing about this ridicul...</td>\n      <td>0</td>\n    </tr>\n  </tbody>\n</table>\n</div>"
          },
          "metadata": {}
        }
      ],
      "execution_count": null
    },
    {
      "cell_type": "code",
      "source": [
        "ds['train']"
      ],
      "metadata": {
        "trusted": true,
        "execution": {
          "iopub.status.busy": "2025-02-03T10:18:49.933559Z",
          "iopub.execute_input": "2025-02-03T10:18:49.934264Z",
          "iopub.status.idle": "2025-02-03T10:18:49.939549Z",
          "shell.execute_reply.started": "2025-02-03T10:18:49.934229Z",
          "shell.execute_reply": "2025-02-03T10:18:49.938699Z"
        },
        "id": "KbzEed3LpjuL",
        "outputId": "22635fc2-27a7-460e-f8eb-fd0c09d14a66"
      },
      "outputs": [
        {
          "execution_count": 9,
          "output_type": "execute_result",
          "data": {
            "text/plain": "Dataset({\n    features: ['text', 'label'],\n    num_rows: 25000\n})"
          },
          "metadata": {}
        }
      ],
      "execution_count": null
    },
    {
      "cell_type": "code",
      "source": [
        "classes=ds['train'].features['label'].names"
      ],
      "metadata": {
        "trusted": true,
        "execution": {
          "iopub.status.busy": "2025-02-03T10:18:54.642158Z",
          "iopub.execute_input": "2025-02-03T10:18:54.642492Z",
          "iopub.status.idle": "2025-02-03T10:18:54.646661Z",
          "shell.execute_reply.started": "2025-02-03T10:18:54.642461Z",
          "shell.execute_reply": "2025-02-03T10:18:54.645786Z"
        },
        "id": "q-cLRGm6pjuL"
      },
      "outputs": [],
      "execution_count": null
    },
    {
      "cell_type": "code",
      "source": [
        "classes"
      ],
      "metadata": {
        "trusted": true,
        "execution": {
          "iopub.status.busy": "2025-02-03T10:18:58.907480Z",
          "iopub.execute_input": "2025-02-03T10:18:58.907821Z",
          "iopub.status.idle": "2025-02-03T10:18:58.913298Z",
          "shell.execute_reply.started": "2025-02-03T10:18:58.907790Z",
          "shell.execute_reply": "2025-02-03T10:18:58.912441Z"
        },
        "id": "va5JjkIepjuL",
        "outputId": "b0d9c884-3f48-4ada-a611-c52654c54cfa"
      },
      "outputs": [
        {
          "execution_count": 11,
          "output_type": "execute_result",
          "data": {
            "text/plain": "['neg', 'pos']"
          },
          "metadata": {}
        }
      ],
      "execution_count": null
    },
    {
      "cell_type": "code",
      "source": [
        "labels=['negative', 'positive']"
      ],
      "metadata": {
        "trusted": true,
        "execution": {
          "iopub.status.busy": "2025-02-03T10:23:50.762272Z",
          "iopub.execute_input": "2025-02-03T10:23:50.763115Z",
          "iopub.status.idle": "2025-02-03T10:23:50.766868Z",
          "shell.execute_reply.started": "2025-02-03T10:23:50.763079Z",
          "shell.execute_reply": "2025-02-03T10:23:50.765981Z"
        },
        "id": "z6PVFYf0pjuM"
      },
      "outputs": [],
      "execution_count": null
    },
    {
      "cell_type": "code",
      "source": [
        "df['newlabel']= df['label'].apply(lambda x : labels[x])"
      ],
      "metadata": {
        "trusted": true,
        "execution": {
          "iopub.status.busy": "2025-02-03T10:23:55.467840Z",
          "iopub.execute_input": "2025-02-03T10:23:55.468637Z",
          "iopub.status.idle": "2025-02-03T10:23:55.478181Z",
          "shell.execute_reply.started": "2025-02-03T10:23:55.468597Z",
          "shell.execute_reply": "2025-02-03T10:23:55.477258Z"
        },
        "id": "Ma-pQeE9pjuM"
      },
      "outputs": [],
      "execution_count": null
    },
    {
      "cell_type": "code",
      "source": [
        "df.head()"
      ],
      "metadata": {
        "trusted": true,
        "execution": {
          "iopub.status.busy": "2025-02-03T10:23:59.946851Z",
          "iopub.execute_input": "2025-02-03T10:23:59.947537Z",
          "iopub.status.idle": "2025-02-03T10:23:59.955650Z",
          "shell.execute_reply.started": "2025-02-03T10:23:59.947500Z",
          "shell.execute_reply": "2025-02-03T10:23:59.954747Z"
        },
        "id": "Jjty_y2upjuM",
        "outputId": "22cf7256-683b-447f-9db1-2d7ab445eca8"
      },
      "outputs": [
        {
          "execution_count": 21,
          "output_type": "execute_result",
          "data": {
            "text/plain": "                                                text  label  newlabel\n0  I rented I AM CURIOUS-YELLOW from my video sto...      0  negative\n1  \"I Am Curious: Yellow\" is a risible and preten...      0  negative\n2  If only to avoid making this type of film in t...      0  negative\n3  This film was probably inspired by Godard's Ma...      0  negative\n4  Oh, brother...after hearing about this ridicul...      0  negative",
            "text/html": "<div>\n<style scoped>\n    .dataframe tbody tr th:only-of-type {\n        vertical-align: middle;\n    }\n\n    .dataframe tbody tr th {\n        vertical-align: top;\n    }\n\n    .dataframe thead th {\n        text-align: right;\n    }\n</style>\n<table border=\"1\" class=\"dataframe\">\n  <thead>\n    <tr style=\"text-align: right;\">\n      <th></th>\n      <th>text</th>\n      <th>label</th>\n      <th>newlabel</th>\n    </tr>\n  </thead>\n  <tbody>\n    <tr>\n      <th>0</th>\n      <td>I rented I AM CURIOUS-YELLOW from my video sto...</td>\n      <td>0</td>\n      <td>negative</td>\n    </tr>\n    <tr>\n      <th>1</th>\n      <td>\"I Am Curious: Yellow\" is a risible and preten...</td>\n      <td>0</td>\n      <td>negative</td>\n    </tr>\n    <tr>\n      <th>2</th>\n      <td>If only to avoid making this type of film in t...</td>\n      <td>0</td>\n      <td>negative</td>\n    </tr>\n    <tr>\n      <th>3</th>\n      <td>This film was probably inspired by Godard's Ma...</td>\n      <td>0</td>\n      <td>negative</td>\n    </tr>\n    <tr>\n      <th>4</th>\n      <td>Oh, brother...after hearing about this ridicul...</td>\n      <td>0</td>\n      <td>negative</td>\n    </tr>\n  </tbody>\n</table>\n</div>"
          },
          "metadata": {}
        }
      ],
      "execution_count": null
    },
    {
      "cell_type": "code",
      "source": [
        "df[df['label']==1 ]"
      ],
      "metadata": {
        "trusted": true,
        "execution": {
          "iopub.status.busy": "2025-02-03T10:25:32.933956Z",
          "iopub.execute_input": "2025-02-03T10:25:32.934305Z",
          "iopub.status.idle": "2025-02-03T10:25:32.946105Z",
          "shell.execute_reply.started": "2025-02-03T10:25:32.934274Z",
          "shell.execute_reply": "2025-02-03T10:25:32.945270Z"
        },
        "id": "7exndTrZpjuM",
        "outputId": "c6884b55-2656-4b77-b9b0-8dd3aa7ae71c"
      },
      "outputs": [
        {
          "execution_count": 25,
          "output_type": "execute_result",
          "data": {
            "text/plain": "                                                    text  label  newlabel\n12500  Zentropa has much in common with The Third Man...      1  positive\n12501  Zentropa is the most original movie I've seen ...      1  positive\n12502  Lars Von Trier is never backward in trying out...      1  positive\n12503  *Contains spoilers due to me having to describ...      1  positive\n12504  That was the first thing that sprang to mind a...      1  positive\n...                                                  ...    ...       ...\n24995  A hit at the time but now better categorised a...      1  positive\n24996  I love this movie like no other. Another time ...      1  positive\n24997  This film and it's sequel Barry Mckenzie holds...      1  positive\n24998  'The Adventures Of Barry McKenzie' started lif...      1  positive\n24999  The story centers around Barry McKenzie who mu...      1  positive\n\n[12500 rows x 3 columns]",
            "text/html": "<div>\n<style scoped>\n    .dataframe tbody tr th:only-of-type {\n        vertical-align: middle;\n    }\n\n    .dataframe tbody tr th {\n        vertical-align: top;\n    }\n\n    .dataframe thead th {\n        text-align: right;\n    }\n</style>\n<table border=\"1\" class=\"dataframe\">\n  <thead>\n    <tr style=\"text-align: right;\">\n      <th></th>\n      <th>text</th>\n      <th>label</th>\n      <th>newlabel</th>\n    </tr>\n  </thead>\n  <tbody>\n    <tr>\n      <th>12500</th>\n      <td>Zentropa has much in common with The Third Man...</td>\n      <td>1</td>\n      <td>positive</td>\n    </tr>\n    <tr>\n      <th>12501</th>\n      <td>Zentropa is the most original movie I've seen ...</td>\n      <td>1</td>\n      <td>positive</td>\n    </tr>\n    <tr>\n      <th>12502</th>\n      <td>Lars Von Trier is never backward in trying out...</td>\n      <td>1</td>\n      <td>positive</td>\n    </tr>\n    <tr>\n      <th>12503</th>\n      <td>*Contains spoilers due to me having to describ...</td>\n      <td>1</td>\n      <td>positive</td>\n    </tr>\n    <tr>\n      <th>12504</th>\n      <td>That was the first thing that sprang to mind a...</td>\n      <td>1</td>\n      <td>positive</td>\n    </tr>\n    <tr>\n      <th>...</th>\n      <td>...</td>\n      <td>...</td>\n      <td>...</td>\n    </tr>\n    <tr>\n      <th>24995</th>\n      <td>A hit at the time but now better categorised a...</td>\n      <td>1</td>\n      <td>positive</td>\n    </tr>\n    <tr>\n      <th>24996</th>\n      <td>I love this movie like no other. Another time ...</td>\n      <td>1</td>\n      <td>positive</td>\n    </tr>\n    <tr>\n      <th>24997</th>\n      <td>This film and it's sequel Barry Mckenzie holds...</td>\n      <td>1</td>\n      <td>positive</td>\n    </tr>\n    <tr>\n      <th>24998</th>\n      <td>'The Adventures Of Barry McKenzie' started lif...</td>\n      <td>1</td>\n      <td>positive</td>\n    </tr>\n    <tr>\n      <th>24999</th>\n      <td>The story centers around Barry McKenzie who mu...</td>\n      <td>1</td>\n      <td>positive</td>\n    </tr>\n  </tbody>\n</table>\n<p>12500 rows × 3 columns</p>\n</div>"
          },
          "metadata": {}
        }
      ],
      "execution_count": null
    },
    {
      "cell_type": "markdown",
      "source": [
        "**DATASET ANALYSIS WITH VISUALIZATIONS**"
      ],
      "metadata": {
        "id": "MaxYMf9ypjuM"
      }
    },
    {
      "cell_type": "code",
      "source": [
        "df['newlabel'].value_counts()"
      ],
      "metadata": {
        "trusted": true,
        "execution": {
          "iopub.status.busy": "2025-02-03T10:26:23.810154Z",
          "iopub.execute_input": "2025-02-03T10:26:23.810518Z",
          "iopub.status.idle": "2025-02-03T10:26:23.819008Z",
          "shell.execute_reply.started": "2025-02-03T10:26:23.810486Z",
          "shell.execute_reply": "2025-02-03T10:26:23.818124Z"
        },
        "id": "lKYCA3CjpjuM",
        "outputId": "227e6fab-88c5-4862-ec51-4d66904d924c"
      },
      "outputs": [
        {
          "execution_count": 26,
          "output_type": "execute_result",
          "data": {
            "text/plain": "newlabel\nnegative    12500\npositive    12500\nName: count, dtype: int64"
          },
          "metadata": {}
        }
      ],
      "execution_count": null
    },
    {
      "cell_type": "code",
      "source": [
        "print(\"Description of Data: \",df.describe())\n",
        "print(\"_\"*120)\n",
        "print(\"Information of Data: \",df.info())\n",
        "print(\"_\"*120)\n",
        "print(\"Checking null values  sumcount of Data: \", df.isnull().sum())\n",
        "print(\"_\"*120)\n",
        "print(\"Label value count of Data: \",df['label'].value_counts())\n",
        "print(\"_\"*120)\n"
      ],
      "metadata": {
        "trusted": true,
        "execution": {
          "iopub.status.busy": "2025-02-03T10:26:30.280607Z",
          "iopub.execute_input": "2025-02-03T10:26:30.281422Z",
          "iopub.status.idle": "2025-02-03T10:26:30.316099Z",
          "shell.execute_reply.started": "2025-02-03T10:26:30.281379Z",
          "shell.execute_reply": "2025-02-03T10:26:30.315317Z"
        },
        "id": "8IRBYE9LpjuM",
        "outputId": "8836410a-ee87-4fda-c355-5dac191d6bc0"
      },
      "outputs": [
        {
          "name": "stdout",
          "text": "Description of Data:               label\ncount  25000.00000\nmean       0.50000\nstd        0.50001\nmin        0.00000\n25%        0.00000\n50%        0.50000\n75%        1.00000\nmax        1.00000\n________________________________________________________________________________________________________________________\n<class 'pandas.core.frame.DataFrame'>\nRangeIndex: 25000 entries, 0 to 24999\nData columns (total 3 columns):\n #   Column    Non-Null Count  Dtype \n---  ------    --------------  ----- \n 0   text      25000 non-null  object\n 1   label     25000 non-null  int64 \n 2   newlabel  25000 non-null  object\ndtypes: int64(1), object(2)\nmemory usage: 586.1+ KB\nInformation of Data:  None\n________________________________________________________________________________________________________________________\nChecking null values  sumcount of Data:  text        0\nlabel       0\nnewlabel    0\ndtype: int64\n________________________________________________________________________________________________________________________\nLabel value count of Data:  label\n0    12500\n1    12500\nName: count, dtype: int64\n________________________________________________________________________________________________________________________\n",
          "output_type": "stream"
        }
      ],
      "execution_count": null
    },
    {
      "cell_type": "code",
      "source": [
        "plt.figure(figsize=(10, 5))\n",
        "sns.countplot(data=df, x='label', palette='viridis')\n",
        "plt.title('Distribution of Labels')\n",
        "plt.show()\n",
        "\n",
        "plt.figure(figsize=(10, 5))\n",
        "sns.countplot(data=df, x='newlabel', palette='viridis')\n",
        "plt.title('Distribution of New Labels')\n",
        "plt.show()"
      ],
      "metadata": {
        "trusted": true,
        "execution": {
          "iopub.status.busy": "2025-02-03T10:26:34.906432Z",
          "iopub.execute_input": "2025-02-03T10:26:34.906794Z",
          "iopub.status.idle": "2025-02-03T10:26:35.320256Z",
          "shell.execute_reply.started": "2025-02-03T10:26:34.906765Z",
          "shell.execute_reply": "2025-02-03T10:26:35.319431Z"
        },
        "id": "GCNe2u4JpjuN",
        "outputId": "51a670de-5562-44e2-d53b-1c4ac7787acb"
      },
      "outputs": [
        {
          "output_type": "display_data",
          "data": {
            "text/plain": "<Figure size 1000x500 with 1 Axes>",
            "image/png": "[encoded data removed]"
          },
          "metadata": {}
        },
        {
          "output_type": "display_data",
          "data": {
            "text/plain": "<Figure size 1000x500 with 1 Axes>",
            "image/png": "[encoded data removed]"
          },
          "metadata": {}
        }
      ],
      "execution_count": null
    },
    {
      "cell_type": "code",
      "source": [
        "df['word_count'] = df['text'].apply(lambda x: len(str(x).split()))\n",
        "\n",
        "# Histogram\n",
        "plt.figure(figsize=(10, 5))\n",
        "sns.histplot(df['word_count'], kde=True, bins=20, color='purple')\n",
        "plt.title('Distribution of Word Counts in Text')\n",
        "plt.show()\n"
      ],
      "metadata": {
        "trusted": true,
        "execution": {
          "iopub.status.busy": "2025-02-03T10:26:41.217979Z",
          "iopub.execute_input": "2025-02-03T10:26:41.218770Z",
          "iopub.status.idle": "2025-02-03T10:26:41.993325Z",
          "shell.execute_reply.started": "2025-02-03T10:26:41.218735Z",
          "shell.execute_reply": "2025-02-03T10:26:41.992494Z"
        },
        "id": "l1VaStclpjuN",
        "outputId": "c5036cb4-e20e-4b1b-f752-d9e3d65bf417"
      },
      "outputs": [
        {
          "name": "stderr",
          "text": "/opt/conda/lib/python3.10/site-packages/seaborn/_oldcore.py:1119: FutureWarning: use_inf_as_na option is deprecated and will be removed in a future version. Convert inf values to NaN before operating instead.\n  with pd.option_context('mode.use_inf_as_na', True):\n",
          "output_type": "stream"
        },
        {
          "output_type": "display_data",
          "data": {
            "text/plain": "<Figure size 1000x500 with 1 Axes>",
            "image/png": "[encoded data removed]"
          },
          "metadata": {}
        }
      ],
      "execution_count": null
    },
    {
      "cell_type": "code",
      "source": [
        "df['char_count'] = df['text'].apply(lambda x: len(str(x)))\n",
        "\n",
        "# Histogram\n",
        "plt.figure(figsize=(10, 5))\n",
        "sns.histplot(df['char_count'], kde=True, bins=20, color='green')\n",
        "plt.title('Distribution of Character Counts in Text')\n",
        "plt.show()\n"
      ],
      "metadata": {
        "trusted": true,
        "execution": {
          "iopub.status.busy": "2025-02-03T10:26:41.995066Z",
          "iopub.execute_input": "2025-02-03T10:26:41.995892Z",
          "iopub.status.idle": "2025-02-03T10:26:42.448463Z",
          "shell.execute_reply.started": "2025-02-03T10:26:41.995849Z",
          "shell.execute_reply": "2025-02-03T10:26:42.447646Z"
        },
        "id": "F-YYeseNpjuN",
        "outputId": "f5419800-c6ee-4bb5-986f-accac65b78b3"
      },
      "outputs": [
        {
          "name": "stderr",
          "text": "/opt/conda/lib/python3.10/site-packages/seaborn/_oldcore.py:1119: FutureWarning: use_inf_as_na option is deprecated and will be removed in a future version. Convert inf values to NaN before operating instead.\n  with pd.option_context('mode.use_inf_as_na', True):\n",
          "output_type": "stream"
        },
        {
          "output_type": "display_data",
          "data": {
            "text/plain": "<Figure size 1000x500 with 1 Axes>",
            "image/png": "[encoded data removed]"
          },
          "metadata": {}
        }
      ],
      "execution_count": null
    },
    {
      "cell_type": "code",
      "source": [
        "sns.pairplot(df[['word_count', 'char_count', 'label']], hue='label', palette='husl')\n",
        "plt.show()"
      ],
      "metadata": {
        "trusted": true,
        "execution": {
          "iopub.status.busy": "2025-02-03T10:26:42.449613Z",
          "iopub.execute_input": "2025-02-03T10:26:42.449865Z",
          "iopub.status.idle": "2025-02-03T10:26:46.315352Z",
          "shell.execute_reply.started": "2025-02-03T10:26:42.449840Z",
          "shell.execute_reply": "2025-02-03T10:26:46.314433Z"
        },
        "id": "g-KFOWV9pjuN",
        "outputId": "f699841c-5042-4062-a4db-ce40be810d3e"
      },
      "outputs": [
        {
          "name": "stderr",
          "text": "/opt/conda/lib/python3.10/site-packages/seaborn/_oldcore.py:1119: FutureWarning: use_inf_as_na option is deprecated and will be removed in a future version. Convert inf values to NaN before operating instead.\n  with pd.option_context('mode.use_inf_as_na', True):\n/opt/conda/lib/python3.10/site-packages/seaborn/_oldcore.py:1075: FutureWarning: When grouping with a length-1 list-like, you will need to pass a length-1 tuple to get_group in a future version of pandas. Pass `(name,)` instead of `name` to silence this warning.\n  data_subset = grouped_data.get_group(pd_key)\n/opt/conda/lib/python3.10/site-packages/seaborn/_oldcore.py:1075: FutureWarning: When grouping with a length-1 list-like, you will need to pass a length-1 tuple to get_group in a future version of pandas. Pass `(name,)` instead of `name` to silence this warning.\n  data_subset = grouped_data.get_group(pd_key)\n/opt/conda/lib/python3.10/site-packages/seaborn/_oldcore.py:1119: FutureWarning: use_inf_as_na option is deprecated and will be removed in a future version. Convert inf values to NaN before operating instead.\n  with pd.option_context('mode.use_inf_as_na', True):\n/opt/conda/lib/python3.10/site-packages/seaborn/_oldcore.py:1075: FutureWarning: When grouping with a length-1 list-like, you will need to pass a length-1 tuple to get_group in a future version of pandas. Pass `(name,)` instead of `name` to silence this warning.\n  data_subset = grouped_data.get_group(pd_key)\n/opt/conda/lib/python3.10/site-packages/seaborn/_oldcore.py:1075: FutureWarning: When grouping with a length-1 list-like, you will need to pass a length-1 tuple to get_group in a future version of pandas. Pass `(name,)` instead of `name` to silence this warning.\n  data_subset = grouped_data.get_group(pd_key)\n",
          "output_type": "stream"
        },
        {
          "output_type": "display_data",
          "data": {
            "text/plain": "<Figure size 558.875x500 with 6 Axes>",
            "image/png": "[encoded data removed]"
          },
          "metadata": {}
        }
      ],
      "execution_count": null
    },
    {
      "cell_type": "code",
      "source": [
        "df.drop(columns=['word_count','char_count'],inplace=True)"
      ],
      "metadata": {
        "trusted": true,
        "execution": {
          "iopub.status.busy": "2025-02-03T10:26:46.317091Z",
          "iopub.execute_input": "2025-02-03T10:26:46.317377Z",
          "iopub.status.idle": "2025-02-03T10:26:46.323741Z",
          "shell.execute_reply.started": "2025-02-03T10:26:46.317343Z",
          "shell.execute_reply": "2025-02-03T10:26:46.322847Z"
        },
        "id": "951XJEd9pjuN"
      },
      "outputs": [],
      "execution_count": null
    },
    {
      "cell_type": "code",
      "source": [
        "# Get unique pairs of 'label' and 'newlabel'\n",
        "unique_pairs = df[['label', 'newlabel']].drop_duplicates()\n",
        "\n",
        "# Display the unique pairs\n",
        "print(unique_pairs)"
      ],
      "metadata": {
        "trusted": true,
        "execution": {
          "iopub.status.busy": "2025-02-03T10:27:35.510112Z",
          "iopub.execute_input": "2025-02-03T10:27:35.510574Z",
          "iopub.status.idle": "2025-02-03T10:27:35.522667Z",
          "shell.execute_reply.started": "2025-02-03T10:27:35.510532Z",
          "shell.execute_reply": "2025-02-03T10:27:35.521674Z"
        },
        "id": "Ob85NOCGpjuN",
        "outputId": "848c0e39-9fb4-44a3-afad-4b5d6206f776"
      },
      "outputs": [
        {
          "name": "stdout",
          "text": "       label  newlabel\n0          0  negative\n12500      1  positive\n",
          "output_type": "stream"
        }
      ],
      "execution_count": null
    },
    {
      "cell_type": "code",
      "source": [
        "df.head()"
      ],
      "metadata": {
        "trusted": true,
        "execution": {
          "iopub.status.busy": "2025-02-03T10:27:36.985948Z",
          "iopub.execute_input": "2025-02-03T10:27:36.986651Z",
          "iopub.status.idle": "2025-02-03T10:27:36.995279Z",
          "shell.execute_reply.started": "2025-02-03T10:27:36.986618Z",
          "shell.execute_reply": "2025-02-03T10:27:36.994437Z"
        },
        "id": "GMlXgUa3pjuN",
        "outputId": "c30384df-ba14-47ed-d08c-6c9e779cd0d7"
      },
      "outputs": [
        {
          "execution_count": 37,
          "output_type": "execute_result",
          "data": {
            "text/plain": "                                                text  label  newlabel\n0  I rented I AM CURIOUS-YELLOW from my video sto...      0  negative\n1  \"I Am Curious: Yellow\" is a risible and preten...      0  negative\n2  If only to avoid making this type of film in t...      0  negative\n3  This film was probably inspired by Godard's Ma...      0  negative\n4  Oh, brother...after hearing about this ridicul...      0  negative",
            "text/html": "<div>\n<style scoped>\n    .dataframe tbody tr th:only-of-type {\n        vertical-align: middle;\n    }\n\n    .dataframe tbody tr th {\n        vertical-align: top;\n    }\n\n    .dataframe thead th {\n        text-align: right;\n    }\n</style>\n<table border=\"1\" class=\"dataframe\">\n  <thead>\n    <tr style=\"text-align: right;\">\n      <th></th>\n      <th>text</th>\n      <th>label</th>\n      <th>newlabel</th>\n    </tr>\n  </thead>\n  <tbody>\n    <tr>\n      <th>0</th>\n      <td>I rented I AM CURIOUS-YELLOW from my video sto...</td>\n      <td>0</td>\n      <td>negative</td>\n    </tr>\n    <tr>\n      <th>1</th>\n      <td>\"I Am Curious: Yellow\" is a risible and preten...</td>\n      <td>0</td>\n      <td>negative</td>\n    </tr>\n    <tr>\n      <th>2</th>\n      <td>If only to avoid making this type of film in t...</td>\n      <td>0</td>\n      <td>negative</td>\n    </tr>\n    <tr>\n      <th>3</th>\n      <td>This film was probably inspired by Godard's Ma...</td>\n      <td>0</td>\n      <td>negative</td>\n    </tr>\n    <tr>\n      <th>4</th>\n      <td>Oh, brother...after hearing about this ridicul...</td>\n      <td>0</td>\n      <td>negative</td>\n    </tr>\n  </tbody>\n</table>\n</div>"
          },
          "metadata": {}
        }
      ],
      "execution_count": null
    },
    {
      "cell_type": "markdown",
      "source": [
        "**PRETRAINED MODEL LOADING WITH TOKENIZERS**"
      ],
      "metadata": {
        "id": "M-LUyWWopjuN"
      }
    },
    {
      "cell_type": "code",
      "source": [
        "# Load model directly\n",
        "from transformers import AutoTokenizer\n",
        "\n",
        "tokenizer = AutoTokenizer.from_pretrained(\"distilbert/distilbert-base-uncased\")"
      ],
      "metadata": {
        "trusted": true,
        "execution": {
          "iopub.status.busy": "2025-02-03T13:01:57.906743Z",
          "iopub.execute_input": "2025-02-03T13:01:57.907411Z",
          "iopub.status.idle": "2025-02-03T13:01:58.185628Z",
          "shell.execute_reply.started": "2025-02-03T13:01:57.907376Z",
          "shell.execute_reply": "2025-02-03T13:01:58.184890Z"
        },
        "id": "JS9yMaSqpjuN"
      },
      "outputs": [],
      "execution_count": null
    },
    {
      "cell_type": "markdown",
      "source": [
        "**ENCODING**"
      ],
      "metadata": {
        "id": "fSomytfypjuO"
      }
    },
    {
      "cell_type": "code",
      "source": [
        "text=\"Nepal, a small yet diverse country located in South Asia, is known for its breathtaking landscapes and cultural heritage.\"\n",
        "encoded_word = tokenizer(text)"
      ],
      "metadata": {
        "trusted": true,
        "execution": {
          "iopub.status.busy": "2025-02-03T10:27:45.020563Z",
          "iopub.execute_input": "2025-02-03T10:27:45.020902Z",
          "iopub.status.idle": "2025-02-03T10:27:45.025499Z",
          "shell.execute_reply.started": "2025-02-03T10:27:45.020870Z",
          "shell.execute_reply": "2025-02-03T10:27:45.024294Z"
        },
        "id": "Td0kfEJIpjuO"
      },
      "outputs": [],
      "execution_count": null
    },
    {
      "cell_type": "code",
      "source": [
        "encoded_word"
      ],
      "metadata": {
        "trusted": true,
        "execution": {
          "iopub.status.busy": "2025-02-03T10:27:46.192574Z",
          "iopub.execute_input": "2025-02-03T10:27:46.193261Z",
          "iopub.status.idle": "2025-02-03T10:27:46.198781Z",
          "shell.execute_reply.started": "2025-02-03T10:27:46.193225Z",
          "shell.execute_reply": "2025-02-03T10:27:46.197727Z"
        },
        "id": "LU4_hN-TpjuO",
        "outputId": "46c7ea84-0865-4cb0-ae2a-5c47714fbe76"
      },
      "outputs": [
        {
          "execution_count": 40,
          "output_type": "execute_result",
          "data": {
            "text/plain": "{'input_ids': [101, 8222, 1010, 1037, 2235, 2664, 7578, 2406, 2284, 1999, 2148, 4021, 1010, 2003, 2124, 2005, 2049, 3052, 17904, 12793, 1998, 3451, 4348, 1012, 102], 'attention_mask': [1, 1, 1, 1, 1, 1, 1, 1, 1, 1, 1, 1, 1, 1, 1, 1, 1, 1, 1, 1, 1, 1, 1, 1, 1]}"
          },
          "metadata": {}
        }
      ],
      "execution_count": null
    },
    {
      "cell_type": "code",
      "source": [
        "tokens = tokenizer.convert_ids_to_tokens(encoded_word.input_ids)\n",
        "print(tokens)"
      ],
      "metadata": {
        "trusted": true,
        "execution": {
          "iopub.status.busy": "2025-02-03T10:27:48.802824Z",
          "iopub.execute_input": "2025-02-03T10:27:48.803204Z",
          "iopub.status.idle": "2025-02-03T10:27:48.807843Z",
          "shell.execute_reply.started": "2025-02-03T10:27:48.803171Z",
          "shell.execute_reply": "2025-02-03T10:27:48.806965Z"
        },
        "id": "07ttLleopjuO",
        "outputId": "311108bf-231b-471f-cf28-7da355543a4c"
      },
      "outputs": [
        {
          "name": "stdout",
          "text": "['[CLS]', 'nepal', ',', 'a', 'small', 'yet', 'diverse', 'country', 'located', 'in', 'south', 'asia', ',', 'is', 'known', 'for', 'its', 'breath', '##taking', 'landscapes', 'and', 'cultural', 'heritage', '.', '[SEP]']\n",
          "output_type": "stream"
        }
      ],
      "execution_count": null
    },
    {
      "cell_type": "code",
      "source": [
        "ds.reset_format()"
      ],
      "metadata": {
        "trusted": true,
        "execution": {
          "iopub.status.busy": "2025-02-03T10:27:50.376541Z",
          "iopub.execute_input": "2025-02-03T10:27:50.377314Z",
          "iopub.status.idle": "2025-02-03T10:27:50.381800Z",
          "shell.execute_reply.started": "2025-02-03T10:27:50.377280Z",
          "shell.execute_reply": "2025-02-03T10:27:50.380907Z"
        },
        "id": "8UEij0x_pjuO"
      },
      "outputs": [],
      "execution_count": null
    },
    {
      "cell_type": "code",
      "source": [
        "ds"
      ],
      "metadata": {
        "trusted": true,
        "execution": {
          "iopub.status.busy": "2025-02-03T10:27:55.549336Z",
          "iopub.execute_input": "2025-02-03T10:27:55.550173Z",
          "iopub.status.idle": "2025-02-03T10:27:55.555711Z",
          "shell.execute_reply.started": "2025-02-03T10:27:55.550140Z",
          "shell.execute_reply": "2025-02-03T10:27:55.554803Z"
        },
        "id": "VuRxE0W5pjuO",
        "outputId": "37c06d23-bffc-4801-ad08-d6a2c6d41823"
      },
      "outputs": [
        {
          "execution_count": 43,
          "output_type": "execute_result",
          "data": {
            "text/plain": "DatasetDict({\n    train: Dataset({\n        features: ['text', 'label'],\n        num_rows: 25000\n    })\n    test: Dataset({\n        features: ['text', 'label'],\n        num_rows: 25000\n    })\n    unsupervised: Dataset({\n        features: ['text', 'label'],\n        num_rows: 50000\n    })\n})"
          },
          "metadata": {}
        }
      ],
      "execution_count": null
    },
    {
      "cell_type": "code",
      "source": [
        "def tokenize(batch_data):\n",
        "  tokenized_data =tokenizer(batch_data['text'], padding=True, truncation=True)\n",
        "  return tokenized_data\n",
        "\n",
        "print(tokenize(ds[\"train\"][:5]))"
      ],
      "metadata": {
        "trusted": true,
        "execution": {
          "iopub.status.busy": "2025-02-03T13:26:52.241298Z",
          "iopub.execute_input": "2025-02-03T13:26:52.241621Z",
          "iopub.status.idle": "2025-02-03T13:26:52.254565Z",
          "shell.execute_reply.started": "2025-02-03T13:26:52.241593Z",
          "shell.execute_reply": "2025-02-03T13:26:52.253737Z"
        },
        "id": "DUWj_TCDpjuO",
        "outputId": "b543bcff-27f0-404b-fbb2-388aa698ad98"
      },
      "outputs": [
        {
          "name": "stdout",
          "text": "{'input_ids': [[101, 1045, 12524, 1045, 2572, 8025, 1011, 3756, 2013, 2026, 2678, 3573, 2138, 1997, 2035, 1996, 6704, 2008, 5129, 2009, 2043, 2009, 2001, 2034, 2207, 1999, 3476, 1012, 1045, 2036, 2657, 2008, 2012, 2034, 2009, 2001, 8243, 2011, 1057, 1012, 1055, 1012, 8205, 2065, 2009, 2412, 2699, 2000, 4607, 2023, 2406, 1010, 3568, 2108, 1037, 5470, 1997, 3152, 2641, 1000, 6801, 1000, 1045, 2428, 2018, 2000, 2156, 2023, 2005, 2870, 1012, 1026, 7987, 1013, 1028, 1026, 7987, 1013, 1028, 1996, 5436, 2003, 8857, 2105, 1037, 2402, 4467, 3689, 3076, 2315, 14229, 2040, 4122, 2000, 4553, 2673, 2016, 2064, 2055, 2166, 1012, 1999, 3327, 2016, 4122, 2000, 3579, 2014, 3086, 2015, 2000, 2437, 2070, 4066, 1997, 4516, 2006, 2054, 1996, 2779, 25430, 14728, 2245, 2055, 3056, 2576, 3314, 2107, 2004, 1996, 5148, 2162, 1998, 2679, 3314, 1999, 1996, 2142, 2163, 1012, 1999, 2090, 4851, 8801, 1998, 6623, 7939, 4697, 3619, 1997, 8947, 2055, 2037, 10740, 2006, 4331, 1010, 2016, 2038, 3348, 2007, 2014, 3689, 3836, 1010, 19846, 1010, 1998, 2496, 2273, 1012, 1026, 7987, 1013, 1028, 1026, 7987, 1013, 1028, 2054, 8563, 2033, 2055, 1045, 2572, 8025, 1011, 3756, 2003, 2008, 2871, 2086, 3283, 1010, 2023, 2001, 2641, 26932, 1012, 2428, 1010, 1996, 3348, 1998, 16371, 25469, 5019, 2024, 2261, 1998, 2521, 2090, 1010, 2130, 2059, 2009, 1005, 1055, 2025, 2915, 2066, 2070, 10036, 2135, 2081, 22555, 2080, 1012, 2096, 2026, 2406, 3549, 2568, 2424, 2009, 16880, 1010, 1999, 4507, 3348, 1998, 16371, 25469, 2024, 1037, 2350, 18785, 1999, 4467, 5988, 1012, 2130, 13749, 7849, 24544, 1010, 15835, 2037, 3437, 2000, 2204, 2214, 2879, 2198, 4811, 1010, 2018, 3348, 5019, 1999, 2010, 3152, 1012, 1026, 7987, 1013, 1028, 1026, 7987, 1013, 1028, 1045, 2079, 4012, 3549, 2094, 1996, 16587, 2005, 1996, 2755, 2008, 2151, 3348, 3491, 1999, 1996, 2143, 2003, 3491, 2005, 6018, 5682, 2738, 2084, 2074, 2000, 5213, 2111, 1998, 2191, 2769, 2000, 2022, 3491, 1999, 26932, 12370, 1999, 2637, 1012, 1045, 2572, 8025, 1011, 3756, 2003, 1037, 2204, 2143, 2005, 3087, 5782, 2000, 2817, 1996, 6240, 1998, 14629, 1006, 2053, 26136, 3832, 1007, 1997, 4467, 5988, 1012, 2021, 2428, 1010, 2023, 2143, 2987, 1005, 1056, 2031, 2172, 1997, 1037, 5436, 1012, 102, 0, 0, 0, 0, 0, 0, 0, 0, 0, 0, 0, 0, 0, 0, 0, 0, 0, 0, 0, 0, 0, 0, 0, 0, 0, 0, 0, 0, 0, 0, 0, 0, 0, 0, 0, 0, 0, 0, 0, 0, 0, 0, 0, 0, 0, 0, 0, 0, 0, 0, 0, 0, 0, 0, 0, 0, 0, 0, 0, 0, 0, 0, 0, 0, 0, 0, 0, 0, 0, 0, 0, 0, 0, 0, 0, 0, 0, 0, 0, 0, 0, 0, 0, 0, 0, 0, 0, 0, 0, 0, 0, 0, 0, 0, 0, 0, 0, 0, 0, 0, 0, 0, 0, 0, 0, 0, 0, 0, 0, 0, 0, 0, 0, 0, 0, 0, 0, 0, 0, 0, 0, 0, 0, 0, 0, 0, 0, 0, 0, 0, 0, 0], [101, 1000, 1045, 2572, 8025, 1024, 3756, 1000, 2003, 1037, 15544, 19307, 1998, 3653, 6528, 20771, 19986, 8632, 1012, 2009, 2987, 1005, 1056, 3043, 2054, 2028, 1005, 1055, 2576, 5328, 2024, 2138, 2023, 2143, 2064, 6684, 2022, 2579, 5667, 2006, 2151, 2504, 1012, 2004, 2005, 1996, 4366, 2008, 19124, 3287, 16371, 25469, 2003, 2019, 6882, 13316, 1011, 2459, 1010, 2008, 3475, 1005, 1056, 2995, 1012, 1045, 1005, 2310, 2464, 1054, 1011, 6758, 3152, 2007, 3287, 16371, 25469, 1012, 4379, 1010, 2027, 2069, 3749, 2070, 25085, 5328, 1010, 2021, 2073, 2024, 1996, 1054, 1011, 6758, 3152, 2007, 21226, 24728, 22144, 2015, 1998, 20916, 4691, 6845, 2401, 1029, 7880, 1010, 2138, 2027, 2123, 1005, 1056, 4839, 1012, 1996, 2168, 3632, 2005, 2216, 10231, 7685, 5830, 3065, 1024, 8040, 7317, 5063, 2015, 11820, 1999, 1996, 9478, 2021, 2025, 1037, 17962, 21239, 1999, 4356, 1012, 1998, 2216, 3653, 6528, 20771, 10271, 5691, 2066, 1996, 2829, 16291, 1010, 1999, 2029, 2057, 1005, 2128, 5845, 2000, 1996, 2609, 1997, 6320, 25624, 1005, 1055, 17061, 3779, 1010, 2021, 2025, 1037, 7637, 1997, 5061, 5710, 2006, 9318, 7367, 5737, 19393, 1012, 2077, 6933, 1006, 2030, 20242, 1007, 1000, 3313, 1011, 3115, 1000, 1999, 5609, 1997, 16371, 25469, 1010, 1996, 10597, 27885, 5809, 2063, 2323, 2202, 2046, 4070, 2028, 14477, 6767, 8524, 6321, 5793, 28141, 4489, 2090, 2273, 1998, 2308, 1024, 2045, 2024, 2053, 8991, 18400, 2015, 2006, 4653, 2043, 19910, 3544, 15287, 1010, 1998, 1996, 2168, 3685, 2022, 2056, 2005, 1037, 2158, 1012, 1999, 2755, 1010, 2017, 3227, 2180, 1005, 1056, 2156, 2931, 8991, 18400, 2015, 1999, 2019, 2137, 2143, 1999, 2505, 2460, 1997, 22555, 2030, 13216, 14253, 2050, 1012, 2023, 6884, 3313, 1011, 3115, 2003, 2625, 1037, 3313, 3115, 2084, 2019, 4914, 2135, 2139, 24128, 3754, 2000, 2272, 2000, 3408, 20547, 2007, 1996, 19008, 1997, 2308, 1005, 1055, 4230, 1012, 102, 0, 0, 0, 0, 0, 0, 0, 0, 0, 0, 0, 0, 0, 0, 0, 0, 0, 0, 0, 0, 0, 0, 0, 0, 0, 0, 0, 0, 0, 0, 0, 0, 0, 0, 0, 0, 0, 0, 0, 0, 0, 0, 0, 0, 0, 0, 0, 0, 0, 0, 0, 0, 0, 0, 0, 0, 0, 0, 0, 0, 0, 0, 0, 0, 0, 0, 0, 0, 0, 0, 0, 0, 0, 0, 0, 0, 0, 0, 0, 0, 0, 0, 0, 0, 0, 0, 0, 0, 0, 0, 0, 0, 0, 0, 0, 0, 0, 0, 0, 0, 0, 0, 0, 0, 0, 0, 0, 0, 0, 0, 0, 0, 0, 0, 0, 0, 0, 0, 0, 0, 0, 0, 0, 0, 0, 0, 0, 0, 0, 0, 0, 0, 0, 0, 0, 0, 0, 0, 0, 0, 0, 0, 0, 0, 0, 0, 0, 0, 0, 0, 0, 0, 0, 0, 0, 0, 0, 0, 0, 0, 0, 0, 0, 0, 0, 0, 0, 0, 0, 0, 0, 0, 0, 0, 0, 0, 0, 0, 0, 0, 0, 0, 0, 0, 0, 0, 0, 0, 0, 0, 0], [101, 2065, 2069, 2000, 4468, 2437, 2023, 2828, 1997, 2143, 1999, 1996, 2925, 1012, 2023, 2143, 2003, 5875, 2004, 2019, 7551, 2021, 4136, 2053, 2522, 11461, 2466, 1012, 1026, 7987, 1013, 1028, 1026, 7987, 1013, 1028, 2028, 2453, 2514, 6819, 5339, 8918, 2005, 3564, 27046, 2009, 2138, 2009, 12817, 2006, 2061, 2116, 2590, 3314, 2021, 2009, 2515, 2061, 2302, 2151, 5860, 11795, 3085, 15793, 1012, 1996, 13972, 3310, 2185, 2007, 2053, 2047, 15251, 1006, 4983, 2028, 3310, 2039, 2007, 2028, 2096, 2028, 1005, 1055, 2568, 17677, 2015, 1010, 2004, 2009, 2097, 26597, 2079, 2076, 2023, 23100, 2143, 1007, 1012, 1026, 7987, 1013, 1028, 1026, 7987, 1013, 1028, 2028, 2453, 2488, 5247, 2028, 1005, 1055, 2051, 4582, 2041, 1037, 3332, 2012, 1037, 3392, 3652, 1012, 1026, 7987, 1013, 1028, 1026, 7987, 1013, 1028, 102, 0, 0, 0, 0, 0, 0, 0, 0, 0, 0, 0, 0, 0, 0, 0, 0, 0, 0, 0, 0, 0, 0, 0, 0, 0, 0, 0, 0, 0, 0, 0, 0, 0, 0, 0, 0, 0, 0, 0, 0, 0, 0, 0, 0, 0, 0, 0, 0, 0, 0, 0, 0, 0, 0, 0, 0, 0, 0, 0, 0, 0, 0, 0, 0, 0, 0, 0, 0, 0, 0, 0, 0, 0, 0, 0, 0, 0, 0, 0, 0, 0, 0, 0, 0, 0, 0, 0, 0, 0, 0, 0, 0, 0, 0, 0, 0, 0, 0, 0, 0, 0, 0, 0, 0, 0, 0, 0, 0, 0, 0, 0, 0, 0, 0, 0, 0, 0, 0, 0, 0, 0, 0, 0, 0, 0, 0, 0, 0, 0, 0, 0, 0, 0, 0, 0, 0, 0, 0, 0, 0, 0, 0, 0, 0, 0, 0, 0, 0, 0, 0, 0, 0, 0, 0, 0, 0, 0, 0, 0, 0, 0, 0, 0, 0, 0, 0, 0, 0, 0, 0, 0, 0, 0, 0, 0, 0, 0, 0, 0, 0, 0, 0, 0, 0, 0, 0, 0, 0, 0, 0, 0, 0, 0, 0, 0, 0, 0, 0, 0, 0, 0, 0, 0, 0, 0, 0, 0, 0, 0, 0, 0, 0, 0, 0, 0, 0, 0, 0, 0, 0, 0, 0, 0, 0, 0, 0, 0, 0, 0, 0, 0, 0, 0, 0, 0, 0, 0, 0, 0, 0, 0, 0, 0, 0, 0, 0, 0, 0, 0, 0, 0, 0, 0, 0, 0, 0, 0, 0, 0, 0, 0, 0, 0, 0, 0, 0, 0, 0, 0, 0, 0, 0, 0, 0, 0, 0, 0, 0, 0, 0, 0, 0, 0, 0, 0, 0, 0, 0, 0, 0, 0, 0, 0, 0, 0, 0, 0, 0, 0, 0, 0, 0, 0, 0, 0, 0, 0, 0, 0, 0, 0, 0, 0, 0, 0, 0, 0, 0, 0, 0, 0, 0, 0, 0, 0, 0, 0, 0, 0, 0, 0, 0, 0, 0, 0, 0, 0, 0, 0, 0, 0, 0, 0, 0, 0, 0, 0, 0, 0, 0, 0, 0, 0, 0, 0, 0, 0, 0, 0, 0, 0, 0], [101, 2023, 2143, 2001, 2763, 4427, 2011, 2643, 4232, 1005, 1055, 16137, 10841, 4115, 1010, 10768, 25300, 2078, 1998, 1045, 9075, 2017, 2000, 2156, 2008, 2143, 2612, 1012, 1026, 7987, 1013, 1028, 1026, 7987, 1013, 1028, 1996, 2143, 2038, 2048, 2844, 3787, 1998, 2216, 2024, 1010, 1006, 1015, 1007, 1996, 12689, 3772, 1006, 1016, 1007, 1996, 8052, 1010, 6151, 6810, 2099, 7178, 2135, 2204, 1010, 6302, 1012, 4237, 2013, 2008, 1010, 2054, 9326, 2033, 2087, 2003, 1996, 10866, 5460, 1997, 9033, 21202, 7971, 1012, 14229, 6396, 2386, 2038, 2000, 2022, 2087, 15703, 3883, 1999, 1996, 2088, 1012, 2016, 4490, 2061, 5236, 1998, 2007, 2035, 1996, 16371, 25469, 1999, 2023, 2143, 1010, 1012, 1012, 1012, 2009, 1005, 1055, 14477, 4779, 26884, 1012, 13599, 2000, 2643, 4232, 1005, 1055, 2143, 1010, 7789, 3012, 2038, 2042, 2999, 2007, 28072, 1012, 2302, 2183, 2205, 2521, 2006, 2023, 3395, 1010, 1045, 2052, 2360, 2008, 4076, 2013, 1996, 4489, 1999, 15084, 2090, 1996, 2413, 1998, 1996, 4467, 2554, 1012, 1026, 7987, 1013, 1028, 1026, 7987, 1013, 1028, 1037, 3185, 1997, 2049, 2051, 1010, 1998, 2173, 1012, 1016, 1013, 2184, 1012, 102, 0, 0, 0, 0, 0, 0, 0, 0, 0, 0, 0, 0, 0, 0, 0, 0, 0, 0, 0, 0, 0, 0, 0, 0, 0, 0, 0, 0, 0, 0, 0, 0, 0, 0, 0, 0, 0, 0, 0, 0, 0, 0, 0, 0, 0, 0, 0, 0, 0, 0, 0, 0, 0, 0, 0, 0, 0, 0, 0, 0, 0, 0, 0, 0, 0, 0, 0, 0, 0, 0, 0, 0, 0, 0, 0, 0, 0, 0, 0, 0, 0, 0, 0, 0, 0, 0, 0, 0, 0, 0, 0, 0, 0, 0, 0, 0, 0, 0, 0, 0, 0, 0, 0, 0, 0, 0, 0, 0, 0, 0, 0, 0, 0, 0, 0, 0, 0, 0, 0, 0, 0, 0, 0, 0, 0, 0, 0, 0, 0, 0, 0, 0, 0, 0, 0, 0, 0, 0, 0, 0, 0, 0, 0, 0, 0, 0, 0, 0, 0, 0, 0, 0, 0, 0, 0, 0, 0, 0, 0, 0, 0, 0, 0, 0, 0, 0, 0, 0, 0, 0, 0, 0, 0, 0, 0, 0, 0, 0, 0, 0, 0, 0, 0, 0, 0, 0, 0, 0, 0, 0, 0, 0, 0, 0, 0, 0, 0, 0, 0, 0, 0, 0, 0, 0, 0, 0, 0, 0, 0, 0, 0, 0, 0, 0, 0, 0, 0, 0, 0, 0, 0, 0, 0, 0, 0, 0, 0, 0, 0, 0, 0, 0, 0, 0, 0, 0, 0, 0, 0, 0, 0, 0, 0, 0, 0, 0, 0, 0, 0, 0, 0, 0, 0, 0, 0, 0, 0, 0, 0, 0, 0, 0, 0, 0, 0, 0, 0, 0, 0, 0, 0, 0, 0, 0, 0, 0, 0, 0, 0, 0, 0, 0, 0, 0, 0, 0, 0, 0, 0, 0, 0, 0, 0, 0, 0, 0, 0, 0, 0, 0, 0, 0, 0, 0, 0, 0, 0, 0, 0, 0], [101, 2821, 1010, 2567, 1012, 1012, 1012, 2044, 4994, 2055, 2023, 9951, 2143, 2005, 8529, 13876, 12129, 2086, 2035, 1045, 2064, 2228, 1997, 2003, 2008, 2214, 14911, 3389, 2299, 1012, 1012, 1026, 7987, 1013, 1028, 1026, 7987, 1013, 1028, 1000, 2003, 2008, 2035, 2045, 2003, 1029, 1029, 1000, 1012, 1012, 1012, 1045, 2001, 2074, 2019, 2220, 9458, 2043, 2023, 20482, 3869, 2718, 1996, 1057, 1012, 1055, 1012, 1045, 2001, 2205, 2402, 2000, 2131, 1999, 1996, 4258, 1006, 2348, 1045, 2106, 6133, 2000, 13583, 2046, 1000, 9119, 8912, 1000, 1007, 1012, 2059, 1037, 11326, 2012, 1037, 2334, 2143, 2688, 10272, 17799, 1011, 2633, 1045, 2071, 2156, 2023, 2143, 1010, 3272, 2085, 1045, 2001, 2004, 2214, 2004, 2026, 3008, 2020, 2043, 2027, 8040, 7317, 13699, 5669, 2000, 2156, 2009, 999, 999, 1026, 7987, 1013, 1028, 1026, 7987, 1013, 1028, 1996, 2069, 3114, 2023, 2143, 2001, 2025, 10033, 2000, 1996, 10812, 13457, 1997, 2051, 2001, 2138, 1997, 1996, 27885, 11020, 20693, 2553, 13977, 2011, 2049, 1057, 1012, 1055, 1012, 2713, 1012, 8817, 1997, 2111, 19311, 2098, 2000, 2023, 27136, 2121, 1010, 3241, 2027, 2020, 2183, 2000, 2156, 1037, 3348, 2143, 1012, 1012, 1012, 2612, 1010, 2027, 2288, 7167, 1997, 2485, 22264, 1997, 1043, 11802, 2135, 1010, 16360, 23004, 25430, 18352, 1010, 2006, 1011, 2395, 7636, 1999, 20857, 6023, 25943, 1010, 2004, 5498, 2063, 2576, 3653, 29048, 1012, 1012, 1012, 1998, 7408, 3468, 2040, 1011, 14977, 23599, 3348, 5019, 2007, 7842, 22772, 1010, 5122, 5889, 1012, 1026, 7987, 1013, 1028, 1026, 7987, 1013, 1028, 3451, 12696, 1010, 4151, 24665, 12502, 1010, 3181, 20785, 1012, 1012, 3649, 2023, 2518, 2001, 1010, 14021, 5596, 2009, 1010, 6402, 2009, 1010, 2059, 4933, 1996, 11289, 1999, 1037, 2599, 3482, 999, 1026, 7987, 1013, 1028, 1026, 7987, 1013, 1028, 7069, 9765, 27065, 2229, 2145, 26988, 2000, 2424, 3643, 1999, 2049, 11771, 18404, 6208, 2576, 11867, 7974, 8613, 1012, 1012, 2021, 2065, 2009, 4694, 1005, 1056, 2005, 1996, 15657, 9446, 1010, 2009, 2052, 2031, 2042, 6439, 1010, 2059, 6404, 1012, 1026, 7987, 1013, 1028, 1026, 7987, 1013, 1028, 2612, 1010, 1996, 1000, 1045, 2572, 8744, 1010, 8744, 1000, 1054, 10536, 16921, 7583, 2516, 2001, 5567, 10866, 2135, 2005, 2086, 2004, 1037, 14841, 26065, 3508, 2005, 22555, 2080, 3152, 1006, 1045, 2572, 8025, 1010, 20920, 1011, 2005, 5637, 3152, 1010, 1045, 2572, 8025, 1010, 2304, 1011, 2005, 1038, 2721, 2595, 24759, 28100, 3370, 3152, 1010, 4385, 1012, 1012, 1007, 1998, 2296, 2702, 2086, 2030, 2061, 1996, 2518, 9466, 2013, 1996, 2757, 1010, 2000, 2022, 7021, 2011, 1037, 2047, 4245, 1997, 26476, 2015, 2040, 2215, 2000, 2156, 2008, 1000, 20355, 3348, 2143, 1000, 2008, 1000, 4329, 3550, 1996, 2143, 3068, 1000, 1012, 1012, 1012, 1026, 7987, 1013, 1028, 1026, 7987, 1013, 1028, 6300, 9953, 1010, 4468, 2066, 1996, 11629, 1012, 1012, 2030, 2065, 2017, 2442, 2156, 2009, 1011, 9278, 1996, 2678, 1998, 3435, 2830, 2000, 1996, 1000, 6530, 1000, 3033, 1010, 2074, 2000, 2131, 2009, 2058, 2007, 1012, 1026, 7987, 1013, 1028, 1026, 7987, 1013, 1028, 102]], 'attention_mask': [[1, 1, 1, 1, 1, 1, 1, 1, 1, 1, 1, 1, 1, 1, 1, 1, 1, 1, 1, 1, 1, 1, 1, 1, 1, 1, 1, 1, 1, 1, 1, 1, 1, 1, 1, 1, 1, 1, 1, 1, 1, 1, 1, 1, 1, 1, 1, 1, 1, 1, 1, 1, 1, 1, 1, 1, 1, 1, 1, 1, 1, 1, 1, 1, 1, 1, 1, 1, 1, 1, 1, 1, 1, 1, 1, 1, 1, 1, 1, 1, 1, 1, 1, 1, 1, 1, 1, 1, 1, 1, 1, 1, 1, 1, 1, 1, 1, 1, 1, 1, 1, 1, 1, 1, 1, 1, 1, 1, 1, 1, 1, 1, 1, 1, 1, 1, 1, 1, 1, 1, 1, 1, 1, 1, 1, 1, 1, 1, 1, 1, 1, 1, 1, 1, 1, 1, 1, 1, 1, 1, 1, 1, 1, 1, 1, 1, 1, 1, 1, 1, 1, 1, 1, 1, 1, 1, 1, 1, 1, 1, 1, 1, 1, 1, 1, 1, 1, 1, 1, 1, 1, 1, 1, 1, 1, 1, 1, 1, 1, 1, 1, 1, 1, 1, 1, 1, 1, 1, 1, 1, 1, 1, 1, 1, 1, 1, 1, 1, 1, 1, 1, 1, 1, 1, 1, 1, 1, 1, 1, 1, 1, 1, 1, 1, 1, 1, 1, 1, 1, 1, 1, 1, 1, 1, 1, 1, 1, 1, 1, 1, 1, 1, 1, 1, 1, 1, 1, 1, 1, 1, 1, 1, 1, 1, 1, 1, 1, 1, 1, 1, 1, 1, 1, 1, 1, 1, 1, 1, 1, 1, 1, 1, 1, 1, 1, 1, 1, 1, 1, 1, 1, 1, 1, 1, 1, 1, 1, 1, 1, 1, 1, 1, 1, 1, 1, 1, 1, 1, 1, 1, 1, 1, 1, 1, 1, 1, 1, 1, 1, 1, 1, 1, 1, 1, 1, 1, 1, 1, 1, 1, 1, 1, 1, 1, 1, 1, 1, 1, 1, 1, 1, 1, 1, 1, 1, 1, 1, 1, 1, 1, 1, 1, 1, 1, 1, 1, 1, 1, 1, 1, 1, 1, 1, 1, 1, 1, 1, 1, 1, 1, 1, 1, 1, 1, 1, 1, 1, 1, 1, 1, 1, 1, 1, 0, 0, 0, 0, 0, 0, 0, 0, 0, 0, 0, 0, 0, 0, 0, 0, 0, 0, 0, 0, 0, 0, 0, 0, 0, 0, 0, 0, 0, 0, 0, 0, 0, 0, 0, 0, 0, 0, 0, 0, 0, 0, 0, 0, 0, 0, 0, 0, 0, 0, 0, 0, 0, 0, 0, 0, 0, 0, 0, 0, 0, 0, 0, 0, 0, 0, 0, 0, 0, 0, 0, 0, 0, 0, 0, 0, 0, 0, 0, 0, 0, 0, 0, 0, 0, 0, 0, 0, 0, 0, 0, 0, 0, 0, 0, 0, 0, 0, 0, 0, 0, 0, 0, 0, 0, 0, 0, 0, 0, 0, 0, 0, 0, 0, 0, 0, 0, 0, 0, 0, 0, 0, 0, 0, 0, 0, 0, 0, 0, 0, 0, 0], [1, 1, 1, 1, 1, 1, 1, 1, 1, 1, 1, 1, 1, 1, 1, 1, 1, 1, 1, 1, 1, 1, 1, 1, 1, 1, 1, 1, 1, 1, 1, 1, 1, 1, 1, 1, 1, 1, 1, 1, 1, 1, 1, 1, 1, 1, 1, 1, 1, 1, 1, 1, 1, 1, 1, 1, 1, 1, 1, 1, 1, 1, 1, 1, 1, 1, 1, 1, 1, 1, 1, 1, 1, 1, 1, 1, 1, 1, 1, 1, 1, 1, 1, 1, 1, 1, 1, 1, 1, 1, 1, 1, 1, 1, 1, 1, 1, 1, 1, 1, 1, 1, 1, 1, 1, 1, 1, 1, 1, 1, 1, 1, 1, 1, 1, 1, 1, 1, 1, 1, 1, 1, 1, 1, 1, 1, 1, 1, 1, 1, 1, 1, 1, 1, 1, 1, 1, 1, 1, 1, 1, 1, 1, 1, 1, 1, 1, 1, 1, 1, 1, 1, 1, 1, 1, 1, 1, 1, 1, 1, 1, 1, 1, 1, 1, 1, 1, 1, 1, 1, 1, 1, 1, 1, 1, 1, 1, 1, 1, 1, 1, 1, 1, 1, 1, 1, 1, 1, 1, 1, 1, 1, 1, 1, 1, 1, 1, 1, 1, 1, 1, 1, 1, 1, 1, 1, 1, 1, 1, 1, 1, 1, 1, 1, 1, 1, 1, 1, 1, 1, 1, 1, 1, 1, 1, 1, 1, 1, 1, 1, 1, 1, 1, 1, 1, 1, 1, 1, 1, 1, 1, 1, 1, 1, 1, 1, 1, 1, 1, 1, 1, 1, 1, 1, 1, 1, 1, 1, 1, 1, 1, 1, 1, 1, 1, 1, 1, 1, 1, 1, 1, 1, 1, 1, 1, 1, 1, 1, 1, 1, 1, 1, 1, 1, 1, 1, 1, 1, 1, 1, 1, 1, 1, 1, 1, 1, 1, 1, 1, 1, 1, 1, 1, 1, 0, 0, 0, 0, 0, 0, 0, 0, 0, 0, 0, 0, 0, 0, 0, 0, 0, 0, 0, 0, 0, 0, 0, 0, 0, 0, 0, 0, 0, 0, 0, 0, 0, 0, 0, 0, 0, 0, 0, 0, 0, 0, 0, 0, 0, 0, 0, 0, 0, 0, 0, 0, 0, 0, 0, 0, 0, 0, 0, 0, 0, 0, 0, 0, 0, 0, 0, 0, 0, 0, 0, 0, 0, 0, 0, 0, 0, 0, 0, 0, 0, 0, 0, 0, 0, 0, 0, 0, 0, 0, 0, 0, 0, 0, 0, 0, 0, 0, 0, 0, 0, 0, 0, 0, 0, 0, 0, 0, 0, 0, 0, 0, 0, 0, 0, 0, 0, 0, 0, 0, 0, 0, 0, 0, 0, 0, 0, 0, 0, 0, 0, 0, 0, 0, 0, 0, 0, 0, 0, 0, 0, 0, 0, 0, 0, 0, 0, 0, 0, 0, 0, 0, 0, 0, 0, 0, 0, 0, 0, 0, 0, 0, 0, 0, 0, 0, 0, 0, 0, 0, 0, 0, 0, 0, 0, 0, 0, 0, 0, 0, 0, 0, 0, 0, 0, 0, 0, 0, 0, 0, 0], [1, 1, 1, 1, 1, 1, 1, 1, 1, 1, 1, 1, 1, 1, 1, 1, 1, 1, 1, 1, 1, 1, 1, 1, 1, 1, 1, 1, 1, 1, 1, 1, 1, 1, 1, 1, 1, 1, 1, 1, 1, 1, 1, 1, 1, 1, 1, 1, 1, 1, 1, 1, 1, 1, 1, 1, 1, 1, 1, 1, 1, 1, 1, 1, 1, 1, 1, 1, 1, 1, 1, 1, 1, 1, 1, 1, 1, 1, 1, 1, 1, 1, 1, 1, 1, 1, 1, 1, 1, 1, 1, 1, 1, 1, 1, 1, 1, 1, 1, 1, 1, 1, 1, 1, 1, 1, 1, 1, 1, 1, 1, 1, 1, 1, 1, 1, 1, 1, 1, 1, 1, 1, 1, 1, 1, 1, 1, 1, 1, 1, 1, 1, 1, 0, 0, 0, 0, 0, 0, 0, 0, 0, 0, 0, 0, 0, 0, 0, 0, 0, 0, 0, 0, 0, 0, 0, 0, 0, 0, 0, 0, 0, 0, 0, 0, 0, 0, 0, 0, 0, 0, 0, 0, 0, 0, 0, 0, 0, 0, 0, 0, 0, 0, 0, 0, 0, 0, 0, 0, 0, 0, 0, 0, 0, 0, 0, 0, 0, 0, 0, 0, 0, 0, 0, 0, 0, 0, 0, 0, 0, 0, 0, 0, 0, 0, 0, 0, 0, 0, 0, 0, 0, 0, 0, 0, 0, 0, 0, 0, 0, 0, 0, 0, 0, 0, 0, 0, 0, 0, 0, 0, 0, 0, 0, 0, 0, 0, 0, 0, 0, 0, 0, 0, 0, 0, 0, 0, 0, 0, 0, 0, 0, 0, 0, 0, 0, 0, 0, 0, 0, 0, 0, 0, 0, 0, 0, 0, 0, 0, 0, 0, 0, 0, 0, 0, 0, 0, 0, 0, 0, 0, 0, 0, 0, 0, 0, 0, 0, 0, 0, 0, 0, 0, 0, 0, 0, 0, 0, 0, 0, 0, 0, 0, 0, 0, 0, 0, 0, 0, 0, 0, 0, 0, 0, 0, 0, 0, 0, 0, 0, 0, 0, 0, 0, 0, 0, 0, 0, 0, 0, 0, 0, 0, 0, 0, 0, 0, 0, 0, 0, 0, 0, 0, 0, 0, 0, 0, 0, 0, 0, 0, 0, 0, 0, 0, 0, 0, 0, 0, 0, 0, 0, 0, 0, 0, 0, 0, 0, 0, 0, 0, 0, 0, 0, 0, 0, 0, 0, 0, 0, 0, 0, 0, 0, 0, 0, 0, 0, 0, 0, 0, 0, 0, 0, 0, 0, 0, 0, 0, 0, 0, 0, 0, 0, 0, 0, 0, 0, 0, 0, 0, 0, 0, 0, 0, 0, 0, 0, 0, 0, 0, 0, 0, 0, 0, 0, 0, 0, 0, 0, 0, 0, 0, 0, 0, 0, 0, 0, 0, 0, 0, 0, 0, 0, 0, 0, 0, 0, 0, 0, 0, 0, 0, 0, 0, 0, 0, 0, 0, 0, 0, 0, 0, 0, 0, 0, 0, 0, 0, 0, 0, 0, 0, 0, 0, 0, 0, 0, 0, 0, 0, 0, 0, 0, 0], [1, 1, 1, 1, 1, 1, 1, 1, 1, 1, 1, 1, 1, 1, 1, 1, 1, 1, 1, 1, 1, 1, 1, 1, 1, 1, 1, 1, 1, 1, 1, 1, 1, 1, 1, 1, 1, 1, 1, 1, 1, 1, 1, 1, 1, 1, 1, 1, 1, 1, 1, 1, 1, 1, 1, 1, 1, 1, 1, 1, 1, 1, 1, 1, 1, 1, 1, 1, 1, 1, 1, 1, 1, 1, 1, 1, 1, 1, 1, 1, 1, 1, 1, 1, 1, 1, 1, 1, 1, 1, 1, 1, 1, 1, 1, 1, 1, 1, 1, 1, 1, 1, 1, 1, 1, 1, 1, 1, 1, 1, 1, 1, 1, 1, 1, 1, 1, 1, 1, 1, 1, 1, 1, 1, 1, 1, 1, 1, 1, 1, 1, 1, 1, 1, 1, 1, 1, 1, 1, 1, 1, 1, 1, 1, 1, 1, 1, 1, 1, 1, 1, 1, 1, 1, 1, 1, 1, 1, 1, 1, 1, 1, 1, 1, 1, 1, 1, 1, 1, 1, 1, 1, 1, 1, 1, 1, 1, 1, 1, 1, 1, 1, 1, 1, 1, 0, 0, 0, 0, 0, 0, 0, 0, 0, 0, 0, 0, 0, 0, 0, 0, 0, 0, 0, 0, 0, 0, 0, 0, 0, 0, 0, 0, 0, 0, 0, 0, 0, 0, 0, 0, 0, 0, 0, 0, 0, 0, 0, 0, 0, 0, 0, 0, 0, 0, 0, 0, 0, 0, 0, 0, 0, 0, 0, 0, 0, 0, 0, 0, 0, 0, 0, 0, 0, 0, 0, 0, 0, 0, 0, 0, 0, 0, 0, 0, 0, 0, 0, 0, 0, 0, 0, 0, 0, 0, 0, 0, 0, 0, 0, 0, 0, 0, 0, 0, 0, 0, 0, 0, 0, 0, 0, 0, 0, 0, 0, 0, 0, 0, 0, 0, 0, 0, 0, 0, 0, 0, 0, 0, 0, 0, 0, 0, 0, 0, 0, 0, 0, 0, 0, 0, 0, 0, 0, 0, 0, 0, 0, 0, 0, 0, 0, 0, 0, 0, 0, 0, 0, 0, 0, 0, 0, 0, 0, 0, 0, 0, 0, 0, 0, 0, 0, 0, 0, 0, 0, 0, 0, 0, 0, 0, 0, 0, 0, 0, 0, 0, 0, 0, 0, 0, 0, 0, 0, 0, 0, 0, 0, 0, 0, 0, 0, 0, 0, 0, 0, 0, 0, 0, 0, 0, 0, 0, 0, 0, 0, 0, 0, 0, 0, 0, 0, 0, 0, 0, 0, 0, 0, 0, 0, 0, 0, 0, 0, 0, 0, 0, 0, 0, 0, 0, 0, 0, 0, 0, 0, 0, 0, 0, 0, 0, 0, 0, 0, 0, 0, 0, 0, 0, 0, 0, 0, 0, 0, 0, 0, 0, 0, 0, 0, 0, 0, 0, 0, 0, 0, 0, 0, 0, 0, 0, 0, 0, 0, 0, 0, 0, 0, 0, 0, 0, 0, 0, 0, 0, 0, 0, 0, 0, 0, 0, 0, 0, 0, 0, 0, 0, 0, 0, 0, 0, 0, 0, 0, 0], [1, 1, 1, 1, 1, 1, 1, 1, 1, 1, 1, 1, 1, 1, 1, 1, 1, 1, 1, 1, 1, 1, 1, 1, 1, 1, 1, 1, 1, 1, 1, 1, 1, 1, 1, 1, 1, 1, 1, 1, 1, 1, 1, 1, 1, 1, 1, 1, 1, 1, 1, 1, 1, 1, 1, 1, 1, 1, 1, 1, 1, 1, 1, 1, 1, 1, 1, 1, 1, 1, 1, 1, 1, 1, 1, 1, 1, 1, 1, 1, 1, 1, 1, 1, 1, 1, 1, 1, 1, 1, 1, 1, 1, 1, 1, 1, 1, 1, 1, 1, 1, 1, 1, 1, 1, 1, 1, 1, 1, 1, 1, 1, 1, 1, 1, 1, 1, 1, 1, 1, 1, 1, 1, 1, 1, 1, 1, 1, 1, 1, 1, 1, 1, 1, 1, 1, 1, 1, 1, 1, 1, 1, 1, 1, 1, 1, 1, 1, 1, 1, 1, 1, 1, 1, 1, 1, 1, 1, 1, 1, 1, 1, 1, 1, 1, 1, 1, 1, 1, 1, 1, 1, 1, 1, 1, 1, 1, 1, 1, 1, 1, 1, 1, 1, 1, 1, 1, 1, 1, 1, 1, 1, 1, 1, 1, 1, 1, 1, 1, 1, 1, 1, 1, 1, 1, 1, 1, 1, 1, 1, 1, 1, 1, 1, 1, 1, 1, 1, 1, 1, 1, 1, 1, 1, 1, 1, 1, 1, 1, 1, 1, 1, 1, 1, 1, 1, 1, 1, 1, 1, 1, 1, 1, 1, 1, 1, 1, 1, 1, 1, 1, 1, 1, 1, 1, 1, 1, 1, 1, 1, 1, 1, 1, 1, 1, 1, 1, 1, 1, 1, 1, 1, 1, 1, 1, 1, 1, 1, 1, 1, 1, 1, 1, 1, 1, 1, 1, 1, 1, 1, 1, 1, 1, 1, 1, 1, 1, 1, 1, 1, 1, 1, 1, 1, 1, 1, 1, 1, 1, 1, 1, 1, 1, 1, 1, 1, 1, 1, 1, 1, 1, 1, 1, 1, 1, 1, 1, 1, 1, 1, 1, 1, 1, 1, 1, 1, 1, 1, 1, 1, 1, 1, 1, 1, 1, 1, 1, 1, 1, 1, 1, 1, 1, 1, 1, 1, 1, 1, 1, 1, 1, 1, 1, 1, 1, 1, 1, 1, 1, 1, 1, 1, 1, 1, 1, 1, 1, 1, 1, 1, 1, 1, 1, 1, 1, 1, 1, 1, 1, 1, 1, 1, 1, 1, 1, 1, 1, 1, 1, 1, 1, 1, 1, 1, 1, 1, 1, 1, 1, 1, 1, 1, 1, 1, 1, 1, 1, 1, 1, 1, 1, 1, 1, 1, 1, 1, 1, 1, 1, 1, 1, 1, 1, 1, 1, 1, 1, 1, 1, 1, 1, 1, 1, 1, 1, 1, 1, 1, 1, 1, 1, 1, 1, 1, 1, 1, 1, 1, 1, 1, 1, 1, 1, 1, 1, 1, 1, 1, 1, 1, 1, 1, 1, 1, 1, 1, 1, 1, 1, 1, 1, 1, 1, 1, 1, 1, 1, 1, 1, 1, 1, 1, 1, 1, 1]]}\n",
          "output_type": "stream"
        }
      ],
      "execution_count": null
    },
    {
      "cell_type": "code",
      "source": [
        "emotions_encoded = ds.map(tokenize, batched=True, batch_size=None)"
      ],
      "metadata": {
        "trusted": true,
        "execution": {
          "iopub.status.busy": "2025-02-03T13:26:54.504877Z",
          "iopub.execute_input": "2025-02-03T13:26:54.505696Z",
          "iopub.status.idle": "2025-02-03T13:26:54.775389Z",
          "shell.execute_reply.started": "2025-02-03T13:26:54.505661Z",
          "shell.execute_reply": "2025-02-03T13:26:54.774690Z"
        },
        "id": "MbFvieggpjuO"
      },
      "outputs": [],
      "execution_count": null
    },
    {
      "cell_type": "code",
      "source": [
        "emotions_encoded"
      ],
      "metadata": {
        "trusted": true,
        "execution": {
          "iopub.status.busy": "2025-02-03T13:26:54.819508Z",
          "iopub.execute_input": "2025-02-03T13:26:54.819757Z",
          "iopub.status.idle": "2025-02-03T13:26:54.825460Z",
          "shell.execute_reply.started": "2025-02-03T13:26:54.819733Z",
          "shell.execute_reply": "2025-02-03T13:26:54.824550Z"
        },
        "id": "VNjCT8O2pjuO",
        "outputId": "c832f339-1c70-4036-a5ff-5865be999375"
      },
      "outputs": [
        {
          "execution_count": 75,
          "output_type": "execute_result",
          "data": {
            "text/plain": "DatasetDict({\n    train: Dataset({\n        features: ['text', 'label', 'input_ids', 'attention_mask'],\n        num_rows: 25000\n    })\n    test: Dataset({\n        features: ['text', 'label', 'input_ids', 'attention_mask'],\n        num_rows: 25000\n    })\n    unsupervised: Dataset({\n        features: ['text', 'label', 'input_ids', 'attention_mask'],\n        num_rows: 50000\n    })\n})"
          },
          "metadata": {}
        }
      ],
      "execution_count": null
    },
    {
      "cell_type": "code",
      "source": [
        "inputs = tokenizer(text, return_tensors='pt')\n",
        "inputs"
      ],
      "metadata": {
        "trusted": true,
        "execution": {
          "iopub.status.busy": "2025-02-03T13:26:55.387716Z",
          "iopub.execute_input": "2025-02-03T13:26:55.388043Z",
          "iopub.status.idle": "2025-02-03T13:26:55.406734Z",
          "shell.execute_reply.started": "2025-02-03T13:26:55.388014Z",
          "shell.execute_reply": "2025-02-03T13:26:55.405967Z"
        },
        "id": "Jd0rVkmZpjuP",
        "outputId": "50672d86-c5fc-4c41-eb12-3b7d49ca4889"
      },
      "outputs": [
        {
          "execution_count": 76,
          "output_type": "execute_result",
          "data": {
            "text/plain": "{'input_ids': tensor([[  101,  8222,  1010,  1037,  2235,  2664,  7578,  2406,  2284,  1999,\n          2148,  4021,  1010,  2003,  2124,  2005,  2049,  3052, 17904, 12793,\n          1998,  3451,  4348,  1012,   102]]), 'attention_mask': tensor([[1, 1, 1, 1, 1, 1, 1, 1, 1, 1, 1, 1, 1, 1, 1, 1, 1, 1, 1, 1, 1, 1, 1, 1,\n         1]])}"
          },
          "metadata": {}
        }
      ],
      "execution_count": null
    },
    {
      "cell_type": "code",
      "source": [
        "model = AutoModel.from_pretrained(\"distilbert/distilbert-base-uncased\")\n",
        "\n",
        "with torch.no_grad():\n",
        "  outputs = model(**inputs)\n",
        "\n",
        "last_hidden_states = outputs.last_hidden_state"
      ],
      "metadata": {
        "trusted": true,
        "execution": {
          "iopub.status.busy": "2025-02-03T13:26:55.609060Z",
          "iopub.execute_input": "2025-02-03T13:26:55.609736Z",
          "iopub.status.idle": "2025-02-03T13:26:55.963489Z",
          "shell.execute_reply.started": "2025-02-03T13:26:55.609697Z",
          "shell.execute_reply": "2025-02-03T13:26:55.962427Z"
        },
        "id": "PEVwZjVwpjuP"
      },
      "outputs": [],
      "execution_count": null
    },
    {
      "cell_type": "code",
      "source": [
        "last_hidden_states"
      ],
      "metadata": {
        "trusted": true,
        "execution": {
          "iopub.status.busy": "2025-02-03T13:26:59.372603Z",
          "iopub.execute_input": "2025-02-03T13:26:59.373132Z",
          "iopub.status.idle": "2025-02-03T13:26:59.381453Z",
          "shell.execute_reply.started": "2025-02-03T13:26:59.373100Z",
          "shell.execute_reply": "2025-02-03T13:26:59.380639Z"
        },
        "id": "ftjzjZLvpjuT",
        "outputId": "6931bd37-dd07-4367-b5df-c1a8a09bc033"
      },
      "outputs": [
        {
          "execution_count": 78,
          "output_type": "execute_result",
          "data": {
            "text/plain": "tensor([[[-0.3059, -0.1283, -0.3624,  ..., -0.2410,  0.4227, -0.0053],\n         [ 0.7899,  0.1538, -0.5382,  ..., -0.1931,  0.1279, -0.0844],\n         [-0.7533,  0.0128, -0.3974,  ..., -0.4165,  0.1512, -0.2359],\n         ...,\n         [ 0.1849,  0.1164,  0.0151,  ..., -0.1964, -0.2324, -0.5381],\n         [ 0.7501, -0.0502, -0.3648,  ...,  0.1962, -0.6372, -0.4919],\n         [ 0.0951,  0.0933, -0.1550,  ...,  0.0421, -0.1701, -0.4793]]])"
          },
          "metadata": {}
        }
      ],
      "execution_count": null
    },
    {
      "cell_type": "markdown",
      "source": [
        "**GETTING AUTOMODEL SEQUENCE CLASSIFICATION**"
      ],
      "metadata": {
        "id": "rvRuYF6ppjuT"
      }
    },
    {
      "cell_type": "code",
      "source": [
        "num_labels = len(classes)\n",
        "device = torch.device(\"cuda\" if torch.cuda.is_available() else \"cpu\")\n",
        "model = AutoModelForSequenceClassification.from_pretrained(\"distilbert/distilbert-base-uncased\", num_labels = num_labels).to(device)"
      ],
      "metadata": {
        "trusted": true,
        "execution": {
          "iopub.status.busy": "2025-02-03T13:27:01.326948Z",
          "iopub.execute_input": "2025-02-03T13:27:01.327587Z",
          "iopub.status.idle": "2025-02-03T13:27:02.086536Z",
          "shell.execute_reply.started": "2025-02-03T13:27:01.327554Z",
          "shell.execute_reply": "2025-02-03T13:27:02.085800Z"
        },
        "id": "2E-qe6HwpjuU",
        "outputId": "a5b6b8c3-0889-4561-ea03-1d1525558e62"
      },
      "outputs": [
        {
          "name": "stderr",
          "text": "Some weights of DistilBertForSequenceClassification were not initialized from the model checkpoint at distilbert/distilbert-base-uncased and are newly initialized: ['classifier.bias', 'classifier.weight', 'pre_classifier.bias', 'pre_classifier.weight']\nYou should probably TRAIN this model on a down-stream task to be able to use it for predictions and inference.\n",
          "output_type": "stream"
        }
      ],
      "execution_count": null
    },
    {
      "cell_type": "markdown",
      "source": [
        "**SETTING TRAINING ARGS**"
      ],
      "metadata": {
        "id": "sM3s48dopjuU"
      }
    },
    {
      "cell_type": "code",
      "source": [
        "\n",
        "batch_size = 64\n",
        "model_name = \"distilbert-finetuned-emotion_model\"\n",
        "\n",
        "training_args = TrainingArguments(output_dir = model_name,\n",
        "                                 num_train_epochs=8,\n",
        "                                  report_to=\"none\",\n",
        "                                 learning_rate = 2e-5,\n",
        "                                 per_device_train_batch_size= batch_size,\n",
        "                                 per_device_eval_batch_size = batch_size,\n",
        "                                  weight_decay=0.01,\n",
        "                                  evaluation_strategy = 'epoch',\n",
        "                                  disable_tqdm=False)"
      ],
      "metadata": {
        "trusted": true,
        "execution": {
          "iopub.status.busy": "2025-02-03T13:27:06.225740Z",
          "iopub.execute_input": "2025-02-03T13:27:06.226774Z",
          "iopub.status.idle": "2025-02-03T13:27:06.260603Z",
          "shell.execute_reply.started": "2025-02-03T13:27:06.226718Z",
          "shell.execute_reply": "2025-02-03T13:27:06.259572Z"
        },
        "id": "Jyvj5I6YpjuU",
        "outputId": "599373d7-b330-4d10-a1f6-0d8eeadec63f"
      },
      "outputs": [
        {
          "name": "stderr",
          "text": "/opt/conda/lib/python3.10/site-packages/transformers/training_args.py:1575: FutureWarning: `evaluation_strategy` is deprecated and will be removed in version 4.46 of 🤗 Transformers. Use `eval_strategy` instead\n  warnings.warn(\n",
          "output_type": "stream"
        }
      ],
      "execution_count": null
    },
    {
      "cell_type": "markdown",
      "source": [
        "**DEFINING METRICS**"
      ],
      "metadata": {
        "id": "RusWVBFupjuU"
      }
    },
    {
      "cell_type": "code",
      "source": [
        "\n",
        "def compute_metrics(pred):\n",
        "  labels = pred.label_ids\n",
        "  preds = pred.predictions.argmax(-1)\n",
        "  f1 = f1_score(labels, preds, average='weighted')\n",
        "  acc = accuracy_score(labels, preds)\n",
        "  return {\"accuracy\": acc, \"f1\": f1}"
      ],
      "metadata": {
        "trusted": true,
        "execution": {
          "iopub.status.busy": "2025-02-03T13:27:08.654566Z",
          "iopub.execute_input": "2025-02-03T13:27:08.654868Z",
          "iopub.status.idle": "2025-02-03T13:27:08.659495Z",
          "shell.execute_reply.started": "2025-02-03T13:27:08.654842Z",
          "shell.execute_reply": "2025-02-03T13:27:08.658553Z"
        },
        "id": "RvtDguNVpjuU"
      },
      "outputs": [],
      "execution_count": null
    },
    {
      "cell_type": "markdown",
      "source": [
        "**CREATING TRAINER**"
      ],
      "metadata": {
        "id": "TSOeWsi5pjuU"
      }
    },
    {
      "cell_type": "code",
      "source": [
        "trainer = Trainer(model=model, args=training_args,\n",
        "                  compute_metrics=compute_metrics,\n",
        "                  train_dataset=emotions_encoded['train'],\n",
        "                  eval_dataset=emotions_encoded['test'],\n",
        "                  tokenizer=tokenizer)"
      ],
      "metadata": {
        "trusted": true,
        "execution": {
          "iopub.status.busy": "2025-02-03T13:27:10.361831Z",
          "iopub.execute_input": "2025-02-03T13:27:10.362221Z",
          "iopub.status.idle": "2025-02-03T13:27:10.382359Z",
          "shell.execute_reply.started": "2025-02-03T13:27:10.362188Z",
          "shell.execute_reply": "2025-02-03T13:27:10.381481Z"
        },
        "id": "0wSt5236pjuU",
        "outputId": "5b0f3742-965d-4a67-c5f1-269a6466fe28"
      },
      "outputs": [
        {
          "name": "stderr",
          "text": "/tmp/ipykernel_23/603732864.py:1: FutureWarning: `tokenizer` is deprecated and will be removed in version 5.0.0 for `Trainer.__init__`. Use `processing_class` instead.\n  trainer = Trainer(model=model, args=training_args,\n",
          "output_type": "stream"
        }
      ],
      "execution_count": null
    },
    {
      "cell_type": "code",
      "source": [
        "# W&B_API_KEY= \"PASTE YOUR API KEY HERE..\""
      ],
      "metadata": {
        "trusted": true,
        "execution": {
          "iopub.status.busy": "2025-01-21T09:01:23.160241Z",
          "iopub.execute_input": "2025-01-21T09:01:23.160529Z",
          "iopub.status.idle": "2025-01-21T09:01:23.164510Z",
          "shell.execute_reply.started": "2025-01-21T09:01:23.160501Z",
          "shell.execute_reply": "2025-01-21T09:01:23.163635Z"
        },
        "id": "KgHSNTs0pjuU"
      },
      "outputs": [],
      "execution_count": null
    },
    {
      "cell_type": "markdown",
      "source": [
        "**TRAINING STARTED !!**"
      ],
      "metadata": {
        "id": "s--lKeXYpjuU"
      }
    },
    {
      "cell_type": "code",
      "source": [
        "trainer.train()"
      ],
      "metadata": {
        "trusted": true,
        "execution": {
          "iopub.status.busy": "2025-02-03T10:30:34.093392Z",
          "iopub.execute_input": "2025-02-03T10:30:34.094314Z",
          "iopub.status.idle": "2025-02-03T12:26:52.977290Z",
          "shell.execute_reply.started": "2025-02-03T10:30:34.094277Z",
          "shell.execute_reply": "2025-02-03T12:26:52.976537Z"
        },
        "id": "SAxiA1tTpjuU",
        "outputId": "d39f3e90-78dd-427a-b6e9-4c2e4b7f5a5b"
      },
      "outputs": [
        {
          "output_type": "display_data",
          "data": {
            "text/plain": "<IPython.core.display.HTML object>",
            "text/html": "\n    <div>\n      \n      <progress value='3128' max='3128' style='width:300px; height:20px; vertical-align: middle;'></progress>\n      [3128/3128 1:56:16, Epoch 8/8]\n    </div>\n    <table border=\"1\" class=\"dataframe\">\n  <thead>\n <tr style=\"text-align: left;\">\n      <th>Epoch</th>\n      <th>Training Loss</th>\n      <th>Validation Loss</th>\n      <th>Accuracy</th>\n      <th>F1</th>\n    </tr>\n  </thead>\n  <tbody>\n    <tr>\n      <td>1</td>\n      <td>No log</td>\n      <td>0.195322</td>\n      <td>0.923960</td>\n      <td>0.923960</td>\n    </tr>\n    <tr>\n      <td>2</td>\n      <td>0.252300</td>\n      <td>0.208664</td>\n      <td>0.925000</td>\n      <td>0.924926</td>\n    </tr>\n    <tr>\n      <td>3</td>\n      <td>0.134900</td>\n      <td>0.239512</td>\n      <td>0.926000</td>\n      <td>0.925924</td>\n    </tr>\n    <tr>\n      <td>4</td>\n      <td>0.078600</td>\n      <td>0.248725</td>\n      <td>0.930200</td>\n      <td>0.930194</td>\n    </tr>\n    <tr>\n      <td>5</td>\n      <td>0.078600</td>\n      <td>0.282813</td>\n      <td>0.931320</td>\n      <td>0.931318</td>\n    </tr>\n    <tr>\n      <td>6</td>\n      <td>0.041300</td>\n      <td>0.332243</td>\n      <td>0.929160</td>\n      <td>0.929124</td>\n    </tr>\n    <tr>\n      <td>7</td>\n      <td>0.024700</td>\n      <td>0.329335</td>\n      <td>0.931080</td>\n      <td>0.931075</td>\n    </tr>\n    <tr>\n      <td>8</td>\n      <td>0.015900</td>\n      <td>0.338917</td>\n      <td>0.931520</td>\n      <td>0.931518</td>\n    </tr>\n  </tbody>\n</table><p>"
          },
          "metadata": {}
        },
        {
          "execution_count": 57,
          "output_type": "execute_result",
          "data": {
            "text/plain": "TrainOutput(global_step=3128, training_loss=0.08816693265877111, metrics={'train_runtime': 6978.5117, 'train_samples_per_second': 28.659, 'train_steps_per_second': 0.448, 'total_flos': 2.64934797312e+16, 'train_loss': 0.08816693265877111, 'epoch': 8.0})"
          },
          "metadata": {}
        }
      ],
      "execution_count": null
    },
    {
      "cell_type": "code",
      "source": [
        "preds_outputs = trainer.predict(emotions_encoded['test'])\n",
        "preds_outputs.metrics"
      ],
      "metadata": {
        "trusted": true,
        "execution": {
          "iopub.status.busy": "2025-02-03T12:49:52.633960Z",
          "iopub.execute_input": "2025-02-03T12:49:52.634324Z",
          "iopub.status.idle": "2025-02-03T12:53:20.122675Z",
          "shell.execute_reply.started": "2025-02-03T12:49:52.634293Z",
          "shell.execute_reply": "2025-02-03T12:53:20.121792Z"
        },
        "id": "7PQshBXRpjuU",
        "outputId": "692e7d1d-308e-45db-e9fb-84de92eaa2c3"
      },
      "outputs": [
        {
          "output_type": "display_data",
          "data": {
            "text/plain": "<IPython.core.display.HTML object>",
            "text/html": ""
          },
          "metadata": {}
        },
        {
          "execution_count": 58,
          "output_type": "execute_result",
          "data": {
            "text/plain": "{'test_loss': 0.3389173746109009,\n 'test_accuracy': 0.93152,\n 'test_f1': 0.9315178523998513,\n 'test_runtime': 207.4776,\n 'test_samples_per_second': 120.495,\n 'test_steps_per_second': 1.885}"
          },
          "metadata": {}
        }
      ],
      "execution_count": null
    },
    {
      "cell_type": "markdown",
      "source": [
        "**CONFUSION MATRIX AND OTHER PREDICTI0NS**"
      ],
      "metadata": {
        "id": "BGUADypjpjuU"
      }
    },
    {
      "cell_type": "code",
      "source": [
        "y_preds = np.argmax(preds_outputs.predictions, axis=1)\n",
        "y_true = emotions_encoded['test'][:]['label']"
      ],
      "metadata": {
        "trusted": true,
        "execution": {
          "iopub.status.busy": "2025-02-03T12:59:28.822336Z",
          "iopub.execute_input": "2025-02-03T12:59:28.822692Z",
          "iopub.status.idle": "2025-02-03T12:59:38.001681Z",
          "shell.execute_reply.started": "2025-02-03T12:59:28.822658Z",
          "shell.execute_reply": "2025-02-03T12:59:38.000965Z"
        },
        "id": "p7b4opoqpjuU"
      },
      "outputs": [],
      "execution_count": null
    },
    {
      "cell_type": "code",
      "source": [
        "\n",
        "# Assume `y_true` and `y_preds` are defined\n",
        "# `classes` is the list of class names\n",
        "cm = confusion_matrix(y_true, y_preds)\n",
        "\n",
        "# Plot confusion matrix using seaborn\n",
        "plt.figure(figsize=(8, 6))\n",
        "sns.heatmap(cm, annot=True, fmt='d', cmap='Blues', xticklabels=classes, yticklabels=classes)\n",
        "plt.xlabel('Predicted Labels')\n",
        "plt.ylabel('True Labels')\n",
        "plt.title('Confusion Matrix')\n",
        "plt.show()"
      ],
      "metadata": {
        "trusted": true,
        "execution": {
          "iopub.status.busy": "2025-02-03T12:59:43.189333Z",
          "iopub.execute_input": "2025-02-03T12:59:43.190105Z",
          "iopub.status.idle": "2025-02-03T12:59:43.433026Z",
          "shell.execute_reply.started": "2025-02-03T12:59:43.190071Z",
          "shell.execute_reply": "2025-02-03T12:59:43.432108Z"
        },
        "id": "RLfcVzL5pjuV",
        "outputId": "e46385c6-a3b7-4ce6-a329-d35f6b795cc3"
      },
      "outputs": [
        {
          "output_type": "display_data",
          "data": {
            "text/plain": "<Figure size 800x600 with 2 Axes>",
            "image/png": "[encoded data removed]"
          },
          "metadata": {}
        }
      ],
      "execution_count": null
    },
    {
      "cell_type": "code",
      "source": [
        "import shutil\n",
        "\n",
        "# Define the source directory and zip file name\n",
        "source_dir = \"/kaggle/working/distilbert-finetuned-emotion_model/checkpoint-1500\"\n",
        "zip_file = \"/kaggle/working/kaggle_working_backup1500\"\n",
        "\n",
        "# Create a zip file of the entire /kaggle/working directory\n",
        "shutil.make_archive(zip_file, 'zip', source_dir)\n",
        "\n",
        "print(f\"Zipped folder saved as {zip_file}.zip\")\n"
      ],
      "metadata": {
        "trusted": true,
        "execution": {
          "iopub.status.busy": "2025-02-03T13:25:15.011753Z",
          "iopub.execute_input": "2025-02-03T13:25:15.012619Z",
          "iopub.status.idle": "2025-02-03T13:25:52.270660Z",
          "shell.execute_reply.started": "2025-02-03T13:25:15.012580Z",
          "shell.execute_reply": "2025-02-03T13:25:52.269757Z"
        },
        "id": "7KP2cAtzpjuV",
        "outputId": "9af7cb7c-9365-4fb1-c0e4-10b5b108a99a"
      },
      "outputs": [
        {
          "name": "stdout",
          "text": "Zipped folder saved as /kaggle/working/kaggle_working_backup1500.zip\n",
          "output_type": "stream"
        }
      ],
      "execution_count": null
    },
    {
      "cell_type": "code",
      "source": [
        "!df -h\n"
      ],
      "metadata": {
        "trusted": true,
        "execution": {
          "iopub.status.busy": "2025-02-03T13:12:58.724251Z",
          "iopub.execute_input": "2025-02-03T13:12:58.724598Z",
          "iopub.status.idle": "2025-02-03T13:12:59.922934Z",
          "shell.execute_reply.started": "2025-02-03T13:12:58.724566Z",
          "shell.execute_reply": "2025-02-03T13:12:59.921997Z"
        },
        "id": "Kf-6n4CRpjuV",
        "outputId": "4b28be18-c711-476e-8aee-bfa0985365fc"
      },
      "outputs": [
        {
          "name": "stderr",
          "text": "/opt/conda/lib/python3.10/pty.py:89: RuntimeWarning: os.fork() was called. os.fork() is incompatible with multithreaded code, and JAX is multithreaded, so this will likely lead to a deadlock.\n  pid, fd = os.forkpty()\nhuggingface/tokenizers: The current process just got forked, after parallelism has already been used. Disabling parallelism to avoid deadlocks...\nTo disable this warning, you can either:\n\t- Avoid using `tokenizers` before the fork if possible\n\t- Explicitly set the environment variable TOKENIZERS_PARALLELISM=(true | false)\n",
          "output_type": "stream"
        },
        {
          "name": "stdout",
          "text": "Filesystem        Size  Used Avail Use% Mounted on\noverlay           7.9T  6.0T  2.0T  76% /\ntmpfs              64M     0   64M   0% /dev\nshm                14G   12K   14G   1% /dev/shm\n/dev/sda1         122G   26G   97G  21% /opt/bin\n/dev/mapper/snap  7.9T  6.0T  2.0T  76% /home/jupyter\n/dev/loop1         20G   20G     0 100% /kaggle/lib\ntmpfs              16G     0   16G   0% /proc/acpi\ntmpfs              16G     0   16G   0% /proc/scsi\ntmpfs              16G     0   16G   0% /sys/firmware\n",
          "output_type": "stream"
        }
      ],
      "execution_count": null
    },
    {
      "cell_type": "code",
      "source": [],
      "metadata": {
        "trusted": true,
        "id": "gTkmT5IDpjuV"
      },
      "outputs": [],
      "execution_count": null
    },
    {
      "cell_type": "markdown",
      "source": [
        "**FINDING BEST CHECKPOINTS MDOEL OUT OF 3.**"
      ],
      "metadata": {
        "id": "m4ZQrOsxpjuV"
      }
    },
    {
      "cell_type": "code",
      "source": [
        "import torch\n",
        "from transformers import DistilBertTokenizer, DistilBertForSequenceClassification\n",
        "\n",
        "# Define paths to checkpoints\n",
        "checkpoints = [\n",
        "    \"/kaggle/working/distilbert-finetuned-emotion_model/checkpoint-500\",\n",
        "    \"/kaggle/working/distilbert-finetuned-emotion_model/checkpoint-1000\",\n",
        "    \"/kaggle/working/distilbert-finetuned-emotion_model/checkpoint-1500\",\n",
        "    \"/kaggle/working/distilbert-finetuned-emotion_model/checkpoint-2000\",\n",
        "    \"/kaggle/working/distilbert-finetuned-emotion_model/checkpoint-2500\",\n",
        "    \"/kaggle/working/distilbert-finetuned-emotion_model/checkpoint-3000\",\n",
        "    \"/kaggle/working/distilbert-finetuned-emotion_model/checkpoint-3128\"\n",
        "]\n",
        "\n",
        "# Validation dataset (example: text and labels)\n",
        "validation_texts = [\n",
        "    \"I feel so happy today!\",\n",
        "    \"This is so frustrating.\",\n",
        "    \"I'm just feeling okay.\",\n",
        "    \"Wow, what an amazing day, but I'm so exhausted!\"\n",
        "]\n",
        "validation_labels = [2, 3, 1, 2]  # Replace with your actual label indices\n",
        "\n",
        "# Evaluate each checkpoint\n",
        "results = {}\n",
        "for checkpoint in checkpoints:\n",
        "    # Load model and tokenizer\n",
        "    tokenizer = DistilBertTokenizer.from_pretrained(checkpoint)\n",
        "    model = DistilBertForSequenceClassification.from_pretrained(checkpoint)\n",
        "    model.eval()\n",
        "\n",
        "    # Prepare data\n",
        "    inputs = tokenizer(validation_texts, return_tensors=\"pt\", truncation=True, padding=True, max_length=512)\n",
        "    with torch.no_grad():\n",
        "        outputs = model(**inputs)\n",
        "\n",
        "    # Get predictions\n",
        "    predictions = torch.argmax(outputs.logits, dim=-1).tolist()\n",
        "    accuracy = accuracy_score(validation_labels, predictions)\n",
        "\n",
        "    # Store results\n",
        "    results[checkpoint] = accuracy\n",
        "\n",
        "# Find best checkpoint\n",
        "best_checkpoint = max(results, key=results.get)\n",
        "print(\"Validation Results:\", results)\n",
        "print(\"Best Checkpoint:\", best_checkpoint)\n"
      ],
      "metadata": {
        "trusted": true,
        "execution": {
          "iopub.status.busy": "2025-02-03T13:28:13.086061Z",
          "iopub.execute_input": "2025-02-03T13:28:13.086767Z",
          "iopub.status.idle": "2025-02-03T13:28:18.287592Z",
          "shell.execute_reply.started": "2025-02-03T13:28:13.086736Z",
          "shell.execute_reply": "2025-02-03T13:28:18.286704Z"
        },
        "id": "hx5SPCZ2pjuW",
        "outputId": "e711980c-3efc-4d96-d3c3-baafb4484ae0"
      },
      "outputs": [
        {
          "name": "stdout",
          "text": "Validation Results: {'/kaggle/working/distilbert-finetuned-emotion_model/checkpoint-500': 0.0, '/kaggle/working/distilbert-finetuned-emotion_model/checkpoint-1000': 0.0, '/kaggle/working/distilbert-finetuned-emotion_model/checkpoint-1500': 0.25, '/kaggle/working/distilbert-finetuned-emotion_model/checkpoint-2000': 0.0, '/kaggle/working/distilbert-finetuned-emotion_model/checkpoint-2500': 0.0, '/kaggle/working/distilbert-finetuned-emotion_model/checkpoint-3000': 0.0, '/kaggle/working/distilbert-finetuned-emotion_model/checkpoint-3128': 0.0}\nBest Checkpoint: /kaggle/working/distilbert-finetuned-emotion_model/checkpoint-1500\n",
          "output_type": "stream"
        }
      ],
      "execution_count": null
    },
    {
      "cell_type": "markdown",
      "source": [
        "**INFERENCING FINE TUNED MODEL**"
      ],
      "metadata": {
        "id": "xnbFKXLbpjuX"
      }
    },
    {
      "cell_type": "code",
      "source": [
        "import shutil\n",
        "\n",
        "# Source directory\n",
        "source_dir = '/kaggle/working/distilbert-finetuned-emotion_model'\n",
        "\n",
        "# Output zip file\n",
        "output_zip = '/kaggle/working/distilbert-finetuned-emotion_model.zip'\n",
        "\n",
        "# Create a zip file\n",
        "shutil.make_archive(base_name=output_zip.replace('.zip', ''), format='zip', root_dir=source_dir)\n",
        "\n",
        "print(f\"Zipped directory is saved at {output_zip}\")"
      ],
      "metadata": {
        "trusted": true,
        "execution": {
          "iopub.status.busy": "2025-02-03T12:59:20.851695Z",
          "iopub.status.idle": "2025-02-03T12:59:20.852194Z",
          "shell.execute_reply.started": "2025-02-03T12:59:20.851949Z",
          "shell.execute_reply": "2025-02-03T12:59:20.851985Z"
        },
        "id": "5xKMZkI0pjuX"
      },
      "outputs": [],
      "execution_count": null
    },
    {
      "cell_type": "markdown",
      "source": [
        "**NOW, TESTING ON REAL TEXT**"
      ],
      "metadata": {
        "id": "suRy1dHKpjuX"
      }
    },
    {
      "cell_type": "code",
      "source": [
        "import torch\n",
        "from transformers import DistilBertTokenizer, DistilBertForSequenceClassification\n",
        "\n",
        "# Path to the saved model and tokenizer\n",
        "model_path = \"/kaggle/working/distilbert-finetuned-emotion_model/checkpoint-1000\"\n",
        "\n",
        "# Load tokenizer and model\n",
        "tokenizer = DistilBertTokenizer.from_pretrained(model_path)\n",
        "model = DistilBertForSequenceClassification.from_pretrained(model_path)\n",
        "\n",
        "# Ensure the model is in evaluation mode\n",
        "model.eval()\n",
        "\n",
        "texts = [\n",
        "    \"I am happy but also a bit nervous about tomorrow.\",\n",
        "    \"This is the worst thing ever, but I guess it could have been worse.\",\n",
        "    \"I feel okay, not great, but not terrible either.\",\n",
        "    \"Wow, what an amazing day, but I'm so exhausted!\",\n",
        "    \"I'm furious but also strangely relieved that it's over.\"\n",
        "]\n",
        "\n",
        "# Tokenize the input text\n",
        "inputs = tokenizer(texts, padding=True, truncation=True, return_tensors=\"pt\", max_length=512)\n",
        "\n",
        "# Perform inference\n",
        "with torch.no_grad():\n",
        "    outputs = model(**inputs)\n",
        "\n",
        "# Get the logits (raw model outputs)\n",
        "logits = outputs.logits\n",
        "\n",
        "probabilities = torch.nn.functional.softmax(logits, dim=-1)\n",
        "\n",
        "# Get predicted class labels\n",
        "predicted_classes = torch.argmax(probabilities, dim=-1)\n",
        "\n",
        "# Print results\n",
        "for text, probs, label in zip(texts, probabilities, predicted_classes):\n",
        "    print(f\"Text: {text}\")\n",
        "    print(f\"Predicted Emotion Label: {label.item()}\")\n",
        "    print(f\"Probabilities: {probs.numpy()}\\n\")"
      ],
      "metadata": {
        "trusted": true,
        "execution": {
          "iopub.status.busy": "2025-02-03T14:31:13.382549Z",
          "iopub.execute_input": "2025-02-03T14:31:13.382814Z",
          "iopub.status.idle": "2025-02-03T14:31:30.581335Z",
          "shell.execute_reply.started": "2025-02-03T14:31:13.382783Z",
          "shell.execute_reply": "2025-02-03T14:31:30.580040Z"
        },
        "id": "k1hlspBWpjuX"
      },
      "outputs": [],
      "execution_count": 2
    },
    {
      "cell_type": "code",
      "source": [
        "import torch\n",
        "from transformers import DistilBertTokenizer, DistilBertForSequenceClassification\n",
        "\n",
        "# Path to the saved model and tokenizer\n",
        "model_path = \"/kaggle/working/distilbert-finetuned-emotion_model/checkpoint-1000\"\n",
        "\n",
        "# Load tokenizer and model\n",
        "tokenizer = DistilBertTokenizer.from_pretrained(model_path)\n",
        "model = DistilBertForSequenceClassification.from_pretrained(model_path)\n",
        "\n",
        "# Ensure the model is in evaluation mode\n",
        "model.eval()\n",
        "\n",
        "# Your input texts\n",
        "texts = [\n",
        "    \"I am happy but also a bit nervous about tomorrow.\",\n",
        "    \"This is the worst thing ever, but I guess it could have been worse.\",\n",
        "    \"I feel okay, not great, but not terrible either.\",\n",
        "    \"Wow, what an amazing day, but I'm so exhausted!\",\n",
        "    \"I'm furious but also strangely relieved that it's over.\"\n",
        "]\n",
        "\n",
        "# Mapping of class indices to labels\n",
        "label_map = {\n",
        "    0: \"sadness\",\n",
        "    3: \"anger\",\n",
        "    2: \"love\",\n",
        "    5: \"surprise\",\n",
        "    4: \"fear\",\n",
        "    1: \"joy\"\n",
        "}\n",
        "\n",
        "# Tokenize the input text\n",
        "inputs = tokenizer(texts, padding=True, truncation=True, return_tensors=\"pt\", max_length=512)\n",
        "\n",
        "# Perform inference\n",
        "with torch.no_grad():\n",
        "    outputs = model(**inputs)\n",
        "\n",
        "# Get the logits (raw model outputs)\n",
        "logits = outputs.logits\n",
        "\n",
        "# Convert logits to probabilities (softmax)\n",
        "probabilities = torch.nn.functional.softmax(logits, dim=-1)\n",
        "\n",
        "# Get top 3 predicted class labels for each text\n",
        "top_k = 3  # Top 3 classes\n",
        "top_probs, top_labels = torch.topk(probabilities, top_k, dim=-1)\n",
        "\n",
        "# Print results for each text\n",
        "for text, probs, labels in zip(texts, top_probs, top_labels):\n",
        "    print(f\"Text: {text}\")\n",
        "    print(\"Top 3 Predicted Emotions with Probabilities:\")\n",
        "    for prob, label in zip(probs, labels):\n",
        "        print(f\"  {label_map[label.item()]}: {prob.item():.4f}\")\n",
        "    print(\"\\n\")\n"
      ],
      "metadata": {
        "trusted": true,
        "id": "Rz-eKhQPpjuX"
      },
      "outputs": [],
      "execution_count": null
    }
  ]
}